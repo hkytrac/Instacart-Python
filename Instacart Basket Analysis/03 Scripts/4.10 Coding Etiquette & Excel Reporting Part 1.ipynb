{
 "cells": [
  {
   "cell_type": "markdown",
   "id": "8fe7b068",
   "metadata": {},
   "source": [
    "## 4.10 Coding Etiquette & Excel Reporting Part 1"
   ]
  },
  {
   "cell_type": "markdown",
   "id": "6f4b5997",
   "metadata": {},
   "source": [
    "### 01. Import libraries & dataset"
   ]
  },
  {
   "cell_type": "code",
   "execution_count": 2,
   "id": "3a136994",
   "metadata": {},
   "outputs": [],
   "source": [
    "# Importing libraries\n",
    "\n",
    "import pandas as pd\n",
    "import numpy as np\n",
    "import os\n",
    "import matplotlib.pyplot as plt\n",
    "import seaborn as sns\n",
    "import scipy"
   ]
  },
  {
   "cell_type": "code",
   "execution_count": 3,
   "id": "6f5acd9f",
   "metadata": {},
   "outputs": [],
   "source": [
    "# Creating a path\n",
    "\n",
    "path = r'C:\\Users\\Trac_\\Documents\\Instacart Basket Analysis'"
   ]
  },
  {
   "cell_type": "code",
   "execution_count": 4,
   "id": "a72b125c",
   "metadata": {},
   "outputs": [],
   "source": [
    "# Import orders_products_merged.pkl\n",
    "\n",
    "df = pd.read_pickle(os.path.join(path, '02 Data', 'Prepared Data', 'orders_products_all.pkl')) "
   ]
  },
  {
   "cell_type": "code",
   "execution_count": 5,
   "id": "136b3beb",
   "metadata": {},
   "outputs": [
    {
     "data": {
      "text/plain": [
       "(32404859, 28)"
      ]
     },
     "execution_count": 5,
     "metadata": {},
     "output_type": "execute_result"
    }
   ],
   "source": [
    "df.shape"
   ]
  },
  {
   "cell_type": "markdown",
   "id": "2c52447b",
   "metadata": {},
   "source": [
    "### 02. Address data security"
   ]
  },
  {
   "cell_type": "code",
   "execution_count": 6,
   "id": "1f948edb",
   "metadata": {},
   "outputs": [
    {
     "name": "stdout",
     "output_type": "stream",
     "text": [
      "<class 'pandas.core.frame.DataFrame'>\n",
      "Int64Index: 32404859 entries, 0 to 32404858\n",
      "Data columns (total 28 columns):\n",
      " #   Column                  Dtype  \n",
      "---  ------                  -----  \n",
      " 0   Unnamed: 0.1            int64  \n",
      " 1   Unnamed: 0              int64  \n",
      " 2   order_id                int64  \n",
      " 3   user_id                 int64  \n",
      " 4   order_number            int64  \n",
      " 5   orders_day_of_week      int64  \n",
      " 6   order_hour_of_day       int64  \n",
      " 7   days_since_prior_order  float64\n",
      " 8   product_id              int64  \n",
      " 9   add_to_cart_order       int64  \n",
      " 10  reordered               int64  \n",
      " 11  product_name            object \n",
      " 12  aisle_id                int64  \n",
      " 13  department_id           int64  \n",
      " 14  prices                  float64\n",
      " 15  max_order               int64  \n",
      " 16  loyalty_flag            object \n",
      " 17  avg_price               float64\n",
      " 18  spending_flag           object \n",
      " 19  median_freq             float64\n",
      " 20  order_freq_flag         object \n",
      " 21  gender                  object \n",
      " 22  state                   object \n",
      " 23  age                     int64  \n",
      " 24  date_joined             object \n",
      " 25  number_of_dependants    int64  \n",
      " 26  family_status           object \n",
      " 27  income                  int64  \n",
      "dtypes: float64(4), int64(16), object(8)\n",
      "memory usage: 7.0+ GB\n"
     ]
    }
   ],
   "source": [
    "df.info()"
   ]
  },
  {
   "cell_type": "markdown",
   "id": "4be1715b",
   "metadata": {},
   "source": [
    "### 03. Create regional segmentation"
   ]
  },
  {
   "cell_type": "code",
   "execution_count": 7,
   "id": "b7d01862",
   "metadata": {},
   "outputs": [],
   "source": [
    "# Create states within regions\n",
    "region = []\n",
    "for value in df['state']:\n",
    "    if (value == 'Maine') or (value == 'New Hampshire') or (value == 'Vermont') or (value == 'Massachusetts') or (value == 'Rhode Island') or (value == 'Connecticut') or (value == 'New York') or (value == 'Pennsylvania') or (value =='New Jersey'):\n",
    "        region.append('Northeast')\n",
    "    elif (value == 'Wisconsin') or (value == 'Michigan') or (value == 'Illinois') or (value == 'Indiana') or (value == 'Ohio') or (value == 'North Dakota') or (value == 'South Dakota') or (value == 'Nebraska') or (value == 'Kansas') or (value == 'Minnesota') or (value == 'Iowa') or (value == 'Missouri'):\n",
    "        region.append('Midwest')\n",
    "    elif (value == 'Idaho') or (value == 'Montana') or (value == 'Wyoming') or (value == 'Nevada') or (value == 'Utah') or (value == 'Colorado') or (value == 'Arizona') or (value == 'New Mexico') or (value == 'Alaska') or (value == 'Washington') or (value == 'Oregon') or (value == 'California') or (value == 'Hawaii'):\n",
    "        region.append('West')\n",
    "    else:\n",
    "        region.append('South')"
   ]
  },
  {
   "cell_type": "code",
   "execution_count": 8,
   "id": "8c840a92",
   "metadata": {},
   "outputs": [],
   "source": [
    "# Create the region column\n",
    "df['region'] = region"
   ]
  },
  {
   "cell_type": "code",
   "execution_count": 9,
   "id": "b8ce022e",
   "metadata": {},
   "outputs": [],
   "source": [
    "region_spending_cross = pd.crosstab(df['region'], df['spending_flag'], dropna = False)"
   ]
  },
  {
   "cell_type": "code",
   "execution_count": 10,
   "id": "23ad65e5",
   "metadata": {},
   "outputs": [
    {
     "data": {
      "text/html": [
       "<div>\n",
       "<style scoped>\n",
       "    .dataframe tbody tr th:only-of-type {\n",
       "        vertical-align: middle;\n",
       "    }\n",
       "\n",
       "    .dataframe tbody tr th {\n",
       "        vertical-align: top;\n",
       "    }\n",
       "\n",
       "    .dataframe thead th {\n",
       "        text-align: right;\n",
       "    }\n",
       "</style>\n",
       "<table border=\"1\" class=\"dataframe\">\n",
       "  <thead>\n",
       "    <tr style=\"text-align: right;\">\n",
       "      <th>spending_flag</th>\n",
       "      <th>High spender</th>\n",
       "      <th>Low spender</th>\n",
       "    </tr>\n",
       "    <tr>\n",
       "      <th>region</th>\n",
       "      <th></th>\n",
       "      <th></th>\n",
       "    </tr>\n",
       "  </thead>\n",
       "  <tbody>\n",
       "    <tr>\n",
       "      <th>Midwest</th>\n",
       "      <td>155975</td>\n",
       "      <td>7441350</td>\n",
       "    </tr>\n",
       "    <tr>\n",
       "      <th>Northeast</th>\n",
       "      <td>108225</td>\n",
       "      <td>5614511</td>\n",
       "    </tr>\n",
       "    <tr>\n",
       "      <th>South</th>\n",
       "      <td>209691</td>\n",
       "      <td>10582194</td>\n",
       "    </tr>\n",
       "    <tr>\n",
       "      <th>West</th>\n",
       "      <td>160354</td>\n",
       "      <td>8132559</td>\n",
       "    </tr>\n",
       "  </tbody>\n",
       "</table>\n",
       "</div>"
      ],
      "text/plain": [
       "spending_flag  High spender  Low spender\n",
       "region                                  \n",
       "Midwest              155975      7441350\n",
       "Northeast            108225      5614511\n",
       "South                209691     10582194\n",
       "West                 160354      8132559"
      ]
     },
     "execution_count": 10,
     "metadata": {},
     "output_type": "execute_result"
    }
   ],
   "source": [
    "region_spending_cross"
   ]
  },
  {
   "cell_type": "code",
   "execution_count": 11,
   "id": "f1c3b7d7",
   "metadata": {},
   "outputs": [],
   "source": [
    "region_spending_cross.to_clipboard()"
   ]
  },
  {
   "cell_type": "markdown",
   "id": "6798982a",
   "metadata": {},
   "source": [
    "### 04. Create an exclusion flag for low-activity customers (customers with less than 5 orders) and exclude them from the data. Make sure you export this sample"
   ]
  },
  {
   "cell_type": "code",
   "execution_count": 12,
   "id": "ece5726e",
   "metadata": {},
   "outputs": [],
   "source": [
    "df.loc[df['max_order'] < 5, 'low_order_flag'] = 'Low order customer'"
   ]
  },
  {
   "cell_type": "code",
   "execution_count": 13,
   "id": "9a12bded",
   "metadata": {},
   "outputs": [],
   "source": [
    "df.loc[df['max_order'] >= 5, 'low_order_flag'] = 'High order customer'"
   ]
  },
  {
   "cell_type": "code",
   "execution_count": 14,
   "id": "b5ea954d",
   "metadata": {},
   "outputs": [
    {
     "data": {
      "text/plain": [
       "High order customer    30964564\n",
       "Low order customer      1440295\n",
       "Name: low_order_flag, dtype: int64"
      ]
     },
     "execution_count": 14,
     "metadata": {},
     "output_type": "execute_result"
    }
   ],
   "source": [
    "df['low_order_flag'].value_counts(dropna = False)"
   ]
  },
  {
   "cell_type": "code",
   "execution_count": 17,
   "id": "55017606",
   "metadata": {},
   "outputs": [],
   "source": [
    "# Create high order customer subset\n",
    "df_high_order_customers = df[df['low_order_flag'] == 'High order customer']"
   ]
  },
  {
   "cell_type": "code",
   "execution_count": 16,
   "id": "a9ffc06b",
   "metadata": {},
   "outputs": [],
   "source": [
    "# Exporting the sample as orders_products_high.pkl\n",
    "\n",
    "df_high_order_customers.to_pickle(os.path.join(path,'02 Data','Prepared Data','high_order_customers.pkl'))"
   ]
  },
  {
   "cell_type": "markdown",
   "id": "e0897ef1",
   "metadata": {},
   "source": [
    "### 05. Create a profiling variable based on age, income, certain goods in the “department_id” column, and number of dependents."
   ]
  },
  {
   "cell_type": "markdown",
   "id": "550b1ff7",
   "metadata": {},
   "source": [
    "#### Age "
   ]
  },
  {
   "cell_type": "code",
   "execution_count": 18,
   "id": "95f98f4f",
   "metadata": {},
   "outputs": [],
   "source": [
    "# Creating the age_flag\n",
    "\n",
    "age_flag = []\n",
    "for x in df['age'].tolist():\n",
    "    if x <= 25:\n",
    "        age_flag.append('Young')\n",
    "    elif x > 25 and x < 65:\n",
    "        age_flag.append('Middle-aged')\n",
    "    elif x >= 65:\n",
    "        age_flag.append('Senior')\n",
    "    else:\n",
    "        print('Weird value:', x)"
   ]
  },
  {
   "cell_type": "code",
   "execution_count": 19,
   "id": "89a26c28",
   "metadata": {},
   "outputs": [],
   "source": [
    "# Adding age_flag to df as 'age_profile'\n",
    "\n",
    "df['age_profile'] = age_flag"
   ]
  },
  {
   "cell_type": "code",
   "execution_count": 20,
   "id": "90a3cea9",
   "metadata": {},
   "outputs": [
    {
     "data": {
      "text/plain": [
       "Middle-aged    19784586\n",
       "Senior          8575084\n",
       "Young           4045189\n",
       "Name: age_profile, dtype: int64"
      ]
     },
     "execution_count": 20,
     "metadata": {},
     "output_type": "execute_result"
    }
   ],
   "source": [
    "# Getting frequency distribution for 'age_profile'\n",
    "\n",
    "df['age_profile'].value_counts(dropna = False)"
   ]
  },
  {
   "cell_type": "markdown",
   "id": "8e2659aa",
   "metadata": {},
   "source": [
    "#### Income"
   ]
  },
  {
   "cell_type": "code",
   "execution_count": 21,
   "id": "bd0d240f",
   "metadata": {},
   "outputs": [],
   "source": [
    "# Creating the income_flag\n",
    "\n",
    "income_flag = []\n",
    "for x in df['income'].tolist():\n",
    "    if x < 75000:\n",
    "        income_flag.append('Low-income')\n",
    "    elif x >= 75000 and x < 150000:\n",
    "        income_flag.append('Mid-income')\n",
    "    elif x >= 150000:\n",
    "        income_flag.append('High-income')\n",
    "    else:\n",
    "        print('Weird value:', row)"
   ]
  },
  {
   "cell_type": "code",
   "execution_count": 22,
   "id": "2d472c6b",
   "metadata": {},
   "outputs": [],
   "source": [
    "# Adding income_flag to df as 'income_profile'\n",
    "\n",
    "df['income_profile'] = income_flag"
   ]
  },
  {
   "cell_type": "code",
   "execution_count": 23,
   "id": "5d2edac6",
   "metadata": {},
   "outputs": [
    {
     "data": {
      "text/plain": [
       "Mid-income     17910512\n",
       "Low-income     10442766\n",
       "High-income     4051581\n",
       "Name: income_profile, dtype: int64"
      ]
     },
     "execution_count": 23,
     "metadata": {},
     "output_type": "execute_result"
    }
   ],
   "source": [
    "# Getting frequency distribution for 'income_profile'\n",
    "\n",
    "df['income_profile'].value_counts(dropna = False)"
   ]
  },
  {
   "cell_type": "markdown",
   "id": "94777f5c",
   "metadata": {},
   "source": [
    "#### Department "
   ]
  },
  {
   "cell_type": "code",
   "execution_count": 24,
   "id": "2087d52d",
   "metadata": {},
   "outputs": [],
   "source": [
    "# Creating a crosstab between 'department_id' and 'user_id'\n",
    "\n",
    "dep_user_cross = pd.crosstab(df['department_id'], df['user_id'], dropna = False)"
   ]
  },
  {
   "cell_type": "code",
   "execution_count": 25,
   "id": "a8f80309",
   "metadata": {},
   "outputs": [
    {
     "data": {
      "text/html": [
       "<div>\n",
       "<style scoped>\n",
       "    .dataframe tbody tr th:only-of-type {\n",
       "        vertical-align: middle;\n",
       "    }\n",
       "\n",
       "    .dataframe tbody tr th {\n",
       "        vertical-align: top;\n",
       "    }\n",
       "\n",
       "    .dataframe thead th {\n",
       "        text-align: right;\n",
       "    }\n",
       "</style>\n",
       "<table border=\"1\" class=\"dataframe\">\n",
       "  <thead>\n",
       "    <tr style=\"text-align: right;\">\n",
       "      <th>user_id</th>\n",
       "      <th>1</th>\n",
       "      <th>2</th>\n",
       "      <th>3</th>\n",
       "      <th>4</th>\n",
       "      <th>5</th>\n",
       "      <th>6</th>\n",
       "      <th>7</th>\n",
       "      <th>8</th>\n",
       "      <th>9</th>\n",
       "      <th>10</th>\n",
       "      <th>...</th>\n",
       "      <th>206200</th>\n",
       "      <th>206201</th>\n",
       "      <th>206202</th>\n",
       "      <th>206203</th>\n",
       "      <th>206204</th>\n",
       "      <th>206205</th>\n",
       "      <th>206206</th>\n",
       "      <th>206207</th>\n",
       "      <th>206208</th>\n",
       "      <th>206209</th>\n",
       "    </tr>\n",
       "    <tr>\n",
       "      <th>department_id</th>\n",
       "      <th></th>\n",
       "      <th></th>\n",
       "      <th></th>\n",
       "      <th></th>\n",
       "      <th></th>\n",
       "      <th></th>\n",
       "      <th></th>\n",
       "      <th></th>\n",
       "      <th></th>\n",
       "      <th></th>\n",
       "      <th></th>\n",
       "      <th></th>\n",
       "      <th></th>\n",
       "      <th></th>\n",
       "      <th></th>\n",
       "      <th></th>\n",
       "      <th></th>\n",
       "      <th></th>\n",
       "      <th></th>\n",
       "      <th></th>\n",
       "      <th></th>\n",
       "    </tr>\n",
       "  </thead>\n",
       "  <tbody>\n",
       "    <tr>\n",
       "      <th>1</th>\n",
       "      <td>0</td>\n",
       "      <td>17</td>\n",
       "      <td>6</td>\n",
       "      <td>3</td>\n",
       "      <td>2</td>\n",
       "      <td>0</td>\n",
       "      <td>4</td>\n",
       "      <td>0</td>\n",
       "      <td>1</td>\n",
       "      <td>1</td>\n",
       "      <td>...</td>\n",
       "      <td>21</td>\n",
       "      <td>18</td>\n",
       "      <td>25</td>\n",
       "      <td>14</td>\n",
       "      <td>10</td>\n",
       "      <td>2</td>\n",
       "      <td>76</td>\n",
       "      <td>21</td>\n",
       "      <td>26</td>\n",
       "      <td>2</td>\n",
       "    </tr>\n",
       "    <tr>\n",
       "      <th>2</th>\n",
       "      <td>0</td>\n",
       "      <td>0</td>\n",
       "      <td>0</td>\n",
       "      <td>0</td>\n",
       "      <td>0</td>\n",
       "      <td>0</td>\n",
       "      <td>0</td>\n",
       "      <td>0</td>\n",
       "      <td>0</td>\n",
       "      <td>0</td>\n",
       "      <td>...</td>\n",
       "      <td>0</td>\n",
       "      <td>0</td>\n",
       "      <td>0</td>\n",
       "      <td>0</td>\n",
       "      <td>0</td>\n",
       "      <td>0</td>\n",
       "      <td>1</td>\n",
       "      <td>0</td>\n",
       "      <td>0</td>\n",
       "      <td>0</td>\n",
       "    </tr>\n",
       "    <tr>\n",
       "      <th>3</th>\n",
       "      <td>0</td>\n",
       "      <td>2</td>\n",
       "      <td>0</td>\n",
       "      <td>2</td>\n",
       "      <td>0</td>\n",
       "      <td>0</td>\n",
       "      <td>5</td>\n",
       "      <td>0</td>\n",
       "      <td>4</td>\n",
       "      <td>0</td>\n",
       "      <td>...</td>\n",
       "      <td>1</td>\n",
       "      <td>38</td>\n",
       "      <td>17</td>\n",
       "      <td>3</td>\n",
       "      <td>4</td>\n",
       "      <td>2</td>\n",
       "      <td>2</td>\n",
       "      <td>3</td>\n",
       "      <td>62</td>\n",
       "      <td>9</td>\n",
       "    </tr>\n",
       "    <tr>\n",
       "      <th>4</th>\n",
       "      <td>5</td>\n",
       "      <td>36</td>\n",
       "      <td>38</td>\n",
       "      <td>2</td>\n",
       "      <td>19</td>\n",
       "      <td>6</td>\n",
       "      <td>57</td>\n",
       "      <td>27</td>\n",
       "      <td>7</td>\n",
       "      <td>72</td>\n",
       "      <td>...</td>\n",
       "      <td>135</td>\n",
       "      <td>33</td>\n",
       "      <td>48</td>\n",
       "      <td>36</td>\n",
       "      <td>13</td>\n",
       "      <td>7</td>\n",
       "      <td>34</td>\n",
       "      <td>50</td>\n",
       "      <td>197</td>\n",
       "      <td>19</td>\n",
       "    </tr>\n",
       "    <tr>\n",
       "      <th>5</th>\n",
       "      <td>0</td>\n",
       "      <td>0</td>\n",
       "      <td>0</td>\n",
       "      <td>2</td>\n",
       "      <td>0</td>\n",
       "      <td>0</td>\n",
       "      <td>0</td>\n",
       "      <td>0</td>\n",
       "      <td>0</td>\n",
       "      <td>0</td>\n",
       "      <td>...</td>\n",
       "      <td>0</td>\n",
       "      <td>0</td>\n",
       "      <td>0</td>\n",
       "      <td>0</td>\n",
       "      <td>0</td>\n",
       "      <td>0</td>\n",
       "      <td>0</td>\n",
       "      <td>0</td>\n",
       "      <td>0</td>\n",
       "      <td>0</td>\n",
       "    </tr>\n",
       "    <tr>\n",
       "      <th>6</th>\n",
       "      <td>0</td>\n",
       "      <td>3</td>\n",
       "      <td>0</td>\n",
       "      <td>0</td>\n",
       "      <td>2</td>\n",
       "      <td>0</td>\n",
       "      <td>0</td>\n",
       "      <td>1</td>\n",
       "      <td>0</td>\n",
       "      <td>1</td>\n",
       "      <td>...</td>\n",
       "      <td>0</td>\n",
       "      <td>2</td>\n",
       "      <td>10</td>\n",
       "      <td>0</td>\n",
       "      <td>2</td>\n",
       "      <td>0</td>\n",
       "      <td>4</td>\n",
       "      <td>1</td>\n",
       "      <td>3</td>\n",
       "      <td>1</td>\n",
       "    </tr>\n",
       "    <tr>\n",
       "      <th>7</th>\n",
       "      <td>13</td>\n",
       "      <td>9</td>\n",
       "      <td>3</td>\n",
       "      <td>3</td>\n",
       "      <td>0</td>\n",
       "      <td>0</td>\n",
       "      <td>51</td>\n",
       "      <td>0</td>\n",
       "      <td>8</td>\n",
       "      <td>0</td>\n",
       "      <td>...</td>\n",
       "      <td>24</td>\n",
       "      <td>83</td>\n",
       "      <td>28</td>\n",
       "      <td>19</td>\n",
       "      <td>0</td>\n",
       "      <td>1</td>\n",
       "      <td>33</td>\n",
       "      <td>20</td>\n",
       "      <td>20</td>\n",
       "      <td>10</td>\n",
       "    </tr>\n",
       "    <tr>\n",
       "      <th>8</th>\n",
       "      <td>0</td>\n",
       "      <td>0</td>\n",
       "      <td>0</td>\n",
       "      <td>0</td>\n",
       "      <td>0</td>\n",
       "      <td>0</td>\n",
       "      <td>1</td>\n",
       "      <td>0</td>\n",
       "      <td>0</td>\n",
       "      <td>0</td>\n",
       "      <td>...</td>\n",
       "      <td>0</td>\n",
       "      <td>12</td>\n",
       "      <td>0</td>\n",
       "      <td>0</td>\n",
       "      <td>1</td>\n",
       "      <td>0</td>\n",
       "      <td>0</td>\n",
       "      <td>0</td>\n",
       "      <td>0</td>\n",
       "      <td>0</td>\n",
       "    </tr>\n",
       "    <tr>\n",
       "      <th>9</th>\n",
       "      <td>0</td>\n",
       "      <td>0</td>\n",
       "      <td>4</td>\n",
       "      <td>0</td>\n",
       "      <td>1</td>\n",
       "      <td>0</td>\n",
       "      <td>0</td>\n",
       "      <td>1</td>\n",
       "      <td>0</td>\n",
       "      <td>0</td>\n",
       "      <td>...</td>\n",
       "      <td>1</td>\n",
       "      <td>24</td>\n",
       "      <td>0</td>\n",
       "      <td>0</td>\n",
       "      <td>2</td>\n",
       "      <td>0</td>\n",
       "      <td>1</td>\n",
       "      <td>8</td>\n",
       "      <td>17</td>\n",
       "      <td>3</td>\n",
       "    </tr>\n",
       "    <tr>\n",
       "      <th>10</th>\n",
       "      <td>0</td>\n",
       "      <td>0</td>\n",
       "      <td>0</td>\n",
       "      <td>0</td>\n",
       "      <td>0</td>\n",
       "      <td>0</td>\n",
       "      <td>0</td>\n",
       "      <td>0</td>\n",
       "      <td>0</td>\n",
       "      <td>0</td>\n",
       "      <td>...</td>\n",
       "      <td>0</td>\n",
       "      <td>0</td>\n",
       "      <td>0</td>\n",
       "      <td>1</td>\n",
       "      <td>0</td>\n",
       "      <td>0</td>\n",
       "      <td>0</td>\n",
       "      <td>0</td>\n",
       "      <td>0</td>\n",
       "      <td>0</td>\n",
       "    </tr>\n",
       "    <tr>\n",
       "      <th>11</th>\n",
       "      <td>0</td>\n",
       "      <td>1</td>\n",
       "      <td>0</td>\n",
       "      <td>0</td>\n",
       "      <td>0</td>\n",
       "      <td>0</td>\n",
       "      <td>0</td>\n",
       "      <td>0</td>\n",
       "      <td>0</td>\n",
       "      <td>0</td>\n",
       "      <td>...</td>\n",
       "      <td>1</td>\n",
       "      <td>3</td>\n",
       "      <td>3</td>\n",
       "      <td>1</td>\n",
       "      <td>0</td>\n",
       "      <td>0</td>\n",
       "      <td>10</td>\n",
       "      <td>0</td>\n",
       "      <td>5</td>\n",
       "      <td>0</td>\n",
       "    </tr>\n",
       "    <tr>\n",
       "      <th>12</th>\n",
       "      <td>0</td>\n",
       "      <td>1</td>\n",
       "      <td>0</td>\n",
       "      <td>0</td>\n",
       "      <td>0</td>\n",
       "      <td>2</td>\n",
       "      <td>8</td>\n",
       "      <td>0</td>\n",
       "      <td>1</td>\n",
       "      <td>13</td>\n",
       "      <td>...</td>\n",
       "      <td>10</td>\n",
       "      <td>26</td>\n",
       "      <td>12</td>\n",
       "      <td>3</td>\n",
       "      <td>4</td>\n",
       "      <td>1</td>\n",
       "      <td>2</td>\n",
       "      <td>6</td>\n",
       "      <td>22</td>\n",
       "      <td>2</td>\n",
       "    </tr>\n",
       "    <tr>\n",
       "      <th>13</th>\n",
       "      <td>1</td>\n",
       "      <td>11</td>\n",
       "      <td>4</td>\n",
       "      <td>0</td>\n",
       "      <td>2</td>\n",
       "      <td>1</td>\n",
       "      <td>9</td>\n",
       "      <td>3</td>\n",
       "      <td>4</td>\n",
       "      <td>22</td>\n",
       "      <td>...</td>\n",
       "      <td>24</td>\n",
       "      <td>17</td>\n",
       "      <td>2</td>\n",
       "      <td>9</td>\n",
       "      <td>1</td>\n",
       "      <td>0</td>\n",
       "      <td>14</td>\n",
       "      <td>15</td>\n",
       "      <td>38</td>\n",
       "      <td>8</td>\n",
       "    </tr>\n",
       "    <tr>\n",
       "      <th>14</th>\n",
       "      <td>3</td>\n",
       "      <td>3</td>\n",
       "      <td>0</td>\n",
       "      <td>0</td>\n",
       "      <td>0</td>\n",
       "      <td>0</td>\n",
       "      <td>0</td>\n",
       "      <td>0</td>\n",
       "      <td>3</td>\n",
       "      <td>0</td>\n",
       "      <td>...</td>\n",
       "      <td>2</td>\n",
       "      <td>17</td>\n",
       "      <td>1</td>\n",
       "      <td>0</td>\n",
       "      <td>0</td>\n",
       "      <td>0</td>\n",
       "      <td>1</td>\n",
       "      <td>4</td>\n",
       "      <td>17</td>\n",
       "      <td>9</td>\n",
       "    </tr>\n",
       "    <tr>\n",
       "      <th>15</th>\n",
       "      <td>0</td>\n",
       "      <td>1</td>\n",
       "      <td>0</td>\n",
       "      <td>1</td>\n",
       "      <td>1</td>\n",
       "      <td>3</td>\n",
       "      <td>6</td>\n",
       "      <td>5</td>\n",
       "      <td>1</td>\n",
       "      <td>2</td>\n",
       "      <td>...</td>\n",
       "      <td>15</td>\n",
       "      <td>7</td>\n",
       "      <td>2</td>\n",
       "      <td>8</td>\n",
       "      <td>0</td>\n",
       "      <td>0</td>\n",
       "      <td>9</td>\n",
       "      <td>11</td>\n",
       "      <td>11</td>\n",
       "      <td>7</td>\n",
       "    </tr>\n",
       "    <tr>\n",
       "      <th>16</th>\n",
       "      <td>13</td>\n",
       "      <td>48</td>\n",
       "      <td>21</td>\n",
       "      <td>0</td>\n",
       "      <td>8</td>\n",
       "      <td>2</td>\n",
       "      <td>32</td>\n",
       "      <td>12</td>\n",
       "      <td>24</td>\n",
       "      <td>16</td>\n",
       "      <td>...</td>\n",
       "      <td>20</td>\n",
       "      <td>74</td>\n",
       "      <td>14</td>\n",
       "      <td>14</td>\n",
       "      <td>10</td>\n",
       "      <td>14</td>\n",
       "      <td>39</td>\n",
       "      <td>52</td>\n",
       "      <td>161</td>\n",
       "      <td>28</td>\n",
       "    </tr>\n",
       "    <tr>\n",
       "      <th>17</th>\n",
       "      <td>2</td>\n",
       "      <td>0</td>\n",
       "      <td>1</td>\n",
       "      <td>2</td>\n",
       "      <td>0</td>\n",
       "      <td>0</td>\n",
       "      <td>1</td>\n",
       "      <td>0</td>\n",
       "      <td>1</td>\n",
       "      <td>0</td>\n",
       "      <td>...</td>\n",
       "      <td>0</td>\n",
       "      <td>19</td>\n",
       "      <td>2</td>\n",
       "      <td>2</td>\n",
       "      <td>3</td>\n",
       "      <td>0</td>\n",
       "      <td>12</td>\n",
       "      <td>0</td>\n",
       "      <td>6</td>\n",
       "      <td>14</td>\n",
       "    </tr>\n",
       "    <tr>\n",
       "      <th>18</th>\n",
       "      <td>0</td>\n",
       "      <td>0</td>\n",
       "      <td>0</td>\n",
       "      <td>0</td>\n",
       "      <td>0</td>\n",
       "      <td>0</td>\n",
       "      <td>0</td>\n",
       "      <td>0</td>\n",
       "      <td>6</td>\n",
       "      <td>0</td>\n",
       "      <td>...</td>\n",
       "      <td>0</td>\n",
       "      <td>0</td>\n",
       "      <td>0</td>\n",
       "      <td>0</td>\n",
       "      <td>0</td>\n",
       "      <td>1</td>\n",
       "      <td>0</td>\n",
       "      <td>1</td>\n",
       "      <td>3</td>\n",
       "      <td>0</td>\n",
       "    </tr>\n",
       "    <tr>\n",
       "      <th>19</th>\n",
       "      <td>22</td>\n",
       "      <td>42</td>\n",
       "      <td>9</td>\n",
       "      <td>1</td>\n",
       "      <td>1</td>\n",
       "      <td>0</td>\n",
       "      <td>19</td>\n",
       "      <td>0</td>\n",
       "      <td>13</td>\n",
       "      <td>1</td>\n",
       "      <td>...</td>\n",
       "      <td>15</td>\n",
       "      <td>30</td>\n",
       "      <td>10</td>\n",
       "      <td>8</td>\n",
       "      <td>2</td>\n",
       "      <td>0</td>\n",
       "      <td>42</td>\n",
       "      <td>23</td>\n",
       "      <td>59</td>\n",
       "      <td>11</td>\n",
       "    </tr>\n",
       "    <tr>\n",
       "      <th>20</th>\n",
       "      <td>0</td>\n",
       "      <td>21</td>\n",
       "      <td>2</td>\n",
       "      <td>2</td>\n",
       "      <td>1</td>\n",
       "      <td>0</td>\n",
       "      <td>13</td>\n",
       "      <td>0</td>\n",
       "      <td>3</td>\n",
       "      <td>15</td>\n",
       "      <td>...</td>\n",
       "      <td>4</td>\n",
       "      <td>0</td>\n",
       "      <td>23</td>\n",
       "      <td>1</td>\n",
       "      <td>2</td>\n",
       "      <td>3</td>\n",
       "      <td>5</td>\n",
       "      <td>8</td>\n",
       "      <td>28</td>\n",
       "      <td>6</td>\n",
       "    </tr>\n",
       "    <tr>\n",
       "      <th>21</th>\n",
       "      <td>0</td>\n",
       "      <td>0</td>\n",
       "      <td>0</td>\n",
       "      <td>0</td>\n",
       "      <td>0</td>\n",
       "      <td>0</td>\n",
       "      <td>0</td>\n",
       "      <td>0</td>\n",
       "      <td>0</td>\n",
       "      <td>0</td>\n",
       "      <td>...</td>\n",
       "      <td>6</td>\n",
       "      <td>1</td>\n",
       "      <td>1</td>\n",
       "      <td>0</td>\n",
       "      <td>0</td>\n",
       "      <td>1</td>\n",
       "      <td>0</td>\n",
       "      <td>0</td>\n",
       "      <td>2</td>\n",
       "      <td>0</td>\n",
       "    </tr>\n",
       "  </tbody>\n",
       "</table>\n",
       "<p>21 rows × 206209 columns</p>\n",
       "</div>"
      ],
      "text/plain": [
       "user_id        1       2       3       4       5       6       7       8       \\\n",
       "department_id                                                                   \n",
       "1                   0      17       6       3       2       0       4       0   \n",
       "2                   0       0       0       0       0       0       0       0   \n",
       "3                   0       2       0       2       0       0       5       0   \n",
       "4                   5      36      38       2      19       6      57      27   \n",
       "5                   0       0       0       2       0       0       0       0   \n",
       "6                   0       3       0       0       2       0       0       1   \n",
       "7                  13       9       3       3       0       0      51       0   \n",
       "8                   0       0       0       0       0       0       1       0   \n",
       "9                   0       0       4       0       1       0       0       1   \n",
       "10                  0       0       0       0       0       0       0       0   \n",
       "11                  0       1       0       0       0       0       0       0   \n",
       "12                  0       1       0       0       0       2       8       0   \n",
       "13                  1      11       4       0       2       1       9       3   \n",
       "14                  3       3       0       0       0       0       0       0   \n",
       "15                  0       1       0       1       1       3       6       5   \n",
       "16                 13      48      21       0       8       2      32      12   \n",
       "17                  2       0       1       2       0       0       1       0   \n",
       "18                  0       0       0       0       0       0       0       0   \n",
       "19                 22      42       9       1       1       0      19       0   \n",
       "20                  0      21       2       2       1       0      13       0   \n",
       "21                  0       0       0       0       0       0       0       0   \n",
       "\n",
       "user_id        9       10      ...  206200  206201  206202  206203  206204  \\\n",
       "department_id                  ...                                           \n",
       "1                   1       1  ...      21      18      25      14      10   \n",
       "2                   0       0  ...       0       0       0       0       0   \n",
       "3                   4       0  ...       1      38      17       3       4   \n",
       "4                   7      72  ...     135      33      48      36      13   \n",
       "5                   0       0  ...       0       0       0       0       0   \n",
       "6                   0       1  ...       0       2      10       0       2   \n",
       "7                   8       0  ...      24      83      28      19       0   \n",
       "8                   0       0  ...       0      12       0       0       1   \n",
       "9                   0       0  ...       1      24       0       0       2   \n",
       "10                  0       0  ...       0       0       0       1       0   \n",
       "11                  0       0  ...       1       3       3       1       0   \n",
       "12                  1      13  ...      10      26      12       3       4   \n",
       "13                  4      22  ...      24      17       2       9       1   \n",
       "14                  3       0  ...       2      17       1       0       0   \n",
       "15                  1       2  ...      15       7       2       8       0   \n",
       "16                 24      16  ...      20      74      14      14      10   \n",
       "17                  1       0  ...       0      19       2       2       3   \n",
       "18                  6       0  ...       0       0       0       0       0   \n",
       "19                 13       1  ...      15      30      10       8       2   \n",
       "20                  3      15  ...       4       0      23       1       2   \n",
       "21                  0       0  ...       6       1       1       0       0   \n",
       "\n",
       "user_id        206205  206206  206207  206208  206209  \n",
       "department_id                                          \n",
       "1                   2      76      21      26       2  \n",
       "2                   0       1       0       0       0  \n",
       "3                   2       2       3      62       9  \n",
       "4                   7      34      50     197      19  \n",
       "5                   0       0       0       0       0  \n",
       "6                   0       4       1       3       1  \n",
       "7                   1      33      20      20      10  \n",
       "8                   0       0       0       0       0  \n",
       "9                   0       1       8      17       3  \n",
       "10                  0       0       0       0       0  \n",
       "11                  0      10       0       5       0  \n",
       "12                  1       2       6      22       2  \n",
       "13                  0      14      15      38       8  \n",
       "14                  0       1       4      17       9  \n",
       "15                  0       9      11      11       7  \n",
       "16                 14      39      52     161      28  \n",
       "17                  0      12       0       6      14  \n",
       "18                  1       0       1       3       0  \n",
       "19                  0      42      23      59      11  \n",
       "20                  3       5       8      28       6  \n",
       "21                  1       0       0       2       0  \n",
       "\n",
       "[21 rows x 206209 columns]"
      ]
     },
     "execution_count": 25,
     "metadata": {},
     "output_type": "execute_result"
    }
   ],
   "source": [
    "dep_user_cross"
   ]
  },
  {
   "cell_type": "code",
   "execution_count": 26,
   "id": "660cadc5",
   "metadata": {},
   "outputs": [],
   "source": [
    "# Assigning nutrition flags to users and storing them in a Python dictionary\n",
    "\n",
    "vegan_dict = dict()\n",
    "for user in dep_user_cross:\n",
    "    workinglist = dep_user_cross[user].tolist()\n",
    "    if workinglist[11] == 0 and workinglist[15] == 0:   # the index starts at 0, so index 0 corresponds to dep_id=1\n",
    "        vegan_dict[user] = 'Vegan'\n",
    "    else:\n",
    "        vegan_dict[user] = 'Non-vegan'"
   ]
  },
  {
   "cell_type": "code",
   "execution_count": 27,
   "id": "d80e5ad9",
   "metadata": {},
   "outputs": [],
   "source": [
    "# Assigning user flags to the vegan_flag\n",
    "\n",
    "vegan_flag = []\n",
    "for user in df['user_id']:\n",
    "    vegan_flag.append(vegan_dict[user])"
   ]
  },
  {
   "cell_type": "code",
   "execution_count": 28,
   "id": "d4366739",
   "metadata": {},
   "outputs": [],
   "source": [
    "# Adding vegan_flag to df as 'vegan_profile'\n",
    "\n",
    "df['vegan_profile'] = vegan_flag"
   ]
  },
  {
   "cell_type": "code",
   "execution_count": 29,
   "id": "e1d0ef6d",
   "metadata": {},
   "outputs": [
    {
     "data": {
      "text/plain": [
       "Non-vegan    32021432\n",
       "Vegan          383427\n",
       "Name: vegan_profile, dtype: int64"
      ]
     },
     "execution_count": 29,
     "metadata": {},
     "output_type": "execute_result"
    }
   ],
   "source": [
    "# Getting frequency distribution for 'vegan_profile'\n",
    "\n",
    "df['vegan_profile'].value_counts(dropna = False)"
   ]
  },
  {
   "cell_type": "markdown",
   "id": "9a92e3b4",
   "metadata": {},
   "source": [
    "#### Family status "
   ]
  },
  {
   "cell_type": "code",
   "execution_count": 30,
   "id": "282df99f",
   "metadata": {},
   "outputs": [
    {
     "data": {
      "text/plain": [
       "married                             22756753\n",
       "single                               5325691\n",
       "divorced/widowed                     2771812\n",
       "living with parents and siblings     1550603\n",
       "Name: family_status, dtype: int64"
      ]
     },
     "execution_count": 30,
     "metadata": {},
     "output_type": "execute_result"
    }
   ],
   "source": [
    "df['family_status'].value_counts(dropna = False)"
   ]
  },
  {
   "cell_type": "code",
   "execution_count": 31,
   "id": "f315ae65",
   "metadata": {},
   "outputs": [],
   "source": [
    "# Creating the 'family_profile' column and labeling the 'married no children' customers\n",
    "\n",
    "df.loc[(df['family_status'] == 'married') & (df['number_of_dependants'] == 1), 'family_profile'] = 'Married no children'"
   ]
  },
  {
   "cell_type": "code",
   "execution_count": 32,
   "id": "4f01a420",
   "metadata": {},
   "outputs": [],
   "source": [
    "# Creating the 'family_profile' column and labeling the 'married with children' customers\n",
    "\n",
    "df.loc[(df['family_status'] == 'married') & (df['number_of_dependants'] >= 2), 'family_profile'] = 'Married with children'"
   ]
  },
  {
   "cell_type": "code",
   "execution_count": 33,
   "id": "4a9daecb",
   "metadata": {},
   "outputs": [],
   "source": [
    "# Creating the 'family_profile' column and labeling the 'single no children' customers\n",
    "\n",
    "df.loc[(df['family_status'] != 'married') & (df['number_of_dependants'] == 0), 'family_profile'] = 'Single no children'"
   ]
  },
  {
   "cell_type": "code",
   "execution_count": 34,
   "id": "615f2c36",
   "metadata": {},
   "outputs": [],
   "source": [
    "# Creating the 'family_profile' column and labeling the 'single with children' customers\n",
    "\n",
    "df.loc[(df['family_status'] != 'married') & (df['number_of_dependants'] >= 1), 'family_profile'] = 'Single with children'"
   ]
  },
  {
   "cell_type": "code",
   "execution_count": 35,
   "id": "07f399e5",
   "metadata": {},
   "outputs": [
    {
     "data": {
      "text/plain": [
       "Married with children    15205849\n",
       "Single no children        8097503\n",
       "Married no children       7550904\n",
       "Single with children      1550603\n",
       "Name: family_profile, dtype: int64"
      ]
     },
     "execution_count": 35,
     "metadata": {},
     "output_type": "execute_result"
    }
   ],
   "source": [
    "# Getting frequency distribution for 'family_profile'\n",
    "\n",
    "df['family_profile'].value_counts(dropna = False)"
   ]
  },
  {
   "cell_type": "markdown",
   "id": "85cb6762",
   "metadata": {},
   "source": [
    "### 06. Create an appropriate visualization to show the distribution of profiles."
   ]
  },
  {
   "cell_type": "code",
   "execution_count": 36,
   "id": "60ebdab3",
   "metadata": {},
   "outputs": [
    {
     "data": {
      "image/png": "[encoded data removed]",
      "text/plain": [
       "<Figure size 640x480 with 1 Axes>"
      ]
     },
     "metadata": {},
     "output_type": "display_data"
    }
   ],
   "source": [
    "# age_profile\n",
    "\n",
    "age_profile_bar = df['age_profile'].value_counts().plot.bar(rot=0)"
   ]
  },
  {
   "cell_type": "code",
   "execution_count": 37,
   "id": "3475890c",
   "metadata": {},
   "outputs": [],
   "source": [
    "# Exporting the viz\n",
    "\n",
    "age_profile_bar.figure.savefig(os.path.join(path, '04 Analysis', 'Visualizations', 'age_profile_bar.png'))"
   ]
  },
  {
   "cell_type": "code",
   "execution_count": 38,
   "id": "425e2f4a",
   "metadata": {},
   "outputs": [
    {
     "data": {
      "image/png": "[encoded data removed]",
      "text/plain": [
       "<Figure size 640x480 with 1 Axes>"
      ]
     },
     "metadata": {},
     "output_type": "display_data"
    }
   ],
   "source": [
    "# income_profile\n",
    "\n",
    "income_profile_bar = df['income_profile'].value_counts().plot.bar(rot=0)"
   ]
  },
  {
   "cell_type": "code",
   "execution_count": 39,
   "id": "5bb24d74",
   "metadata": {},
   "outputs": [],
   "source": [
    "# Exporting the viz\n",
    "\n",
    "income_profile_bar.figure.savefig(os.path.join(path, '04 Analysis', 'Visualizations', 'income_profile_bar.png'))"
   ]
  },
  {
   "cell_type": "code",
   "execution_count": 40,
   "id": "57ca4fb4",
   "metadata": {},
   "outputs": [
    {
     "data": {
      "image/png": "[encoded data removed]",
      "text/plain": [
       "<Figure size 640x480 with 1 Axes>"
      ]
     },
     "metadata": {},
     "output_type": "display_data"
    }
   ],
   "source": [
    "# vegan_profile\n",
    "\n",
    "vegan_profile_bar = df['vegan_profile'].value_counts().plot.bar(rot=0)"
   ]
  },
  {
   "cell_type": "code",
   "execution_count": 41,
   "id": "2eb27d12",
   "metadata": {},
   "outputs": [],
   "source": [
    "# Exporting the viz\n",
    "\n",
    "vegan_profile_bar.figure.savefig(os.path.join(path, '04 Analysis', 'Visualizations', 'vegan_profile_bar.png'))"
   ]
  },
  {
   "cell_type": "code",
   "execution_count": 42,
   "id": "7c3ee443",
   "metadata": {},
   "outputs": [
    {
     "data": {
      "image/png": "[encoded data removed]",
      "text/plain": [
       "<Figure size 640x480 with 1 Axes>"
      ]
     },
     "metadata": {},
     "output_type": "display_data"
    }
   ],
   "source": [
    "# family_profile\n",
    "\n",
    "family_profile_bar = df['family_profile'].value_counts().plot.bar()"
   ]
  },
  {
   "cell_type": "code",
   "execution_count": 43,
   "id": "08877c35",
   "metadata": {},
   "outputs": [],
   "source": [
    "# Exporting the viz\n",
    "\n",
    "family_profile_bar.figure.savefig(os.path.join(path, '04 Analysis', 'Visualizations', 'family_profile_bar.png'))"
   ]
  },
  {
   "cell_type": "markdown",
   "id": "a5a9a9c2",
   "metadata": {},
   "source": [
    "### 07. Aggregate the max, mean, and min variables on a customer-profile level for usage frequency and expenditure."
   ]
  },
  {
   "cell_type": "markdown",
   "id": "9cd0e8a6",
   "metadata": {},
   "source": [
    "#### Age"
   ]
  },
  {
   "cell_type": "code",
   "execution_count": 44,
   "id": "a2b83ee0",
   "metadata": {},
   "outputs": [
    {
     "data": {
      "text/html": [
       "<div>\n",
       "<style scoped>\n",
       "    .dataframe tbody tr th:only-of-type {\n",
       "        vertical-align: middle;\n",
       "    }\n",
       "\n",
       "    .dataframe tbody tr th {\n",
       "        vertical-align: top;\n",
       "    }\n",
       "\n",
       "    .dataframe thead tr th {\n",
       "        text-align: left;\n",
       "    }\n",
       "\n",
       "    .dataframe thead tr:last-of-type th {\n",
       "        text-align: right;\n",
       "    }\n",
       "</style>\n",
       "<table border=\"1\" class=\"dataframe\">\n",
       "  <thead>\n",
       "    <tr>\n",
       "      <th></th>\n",
       "      <th colspan=\"3\" halign=\"left\">days_since_prior_order</th>\n",
       "      <th colspan=\"3\" halign=\"left\">prices</th>\n",
       "    </tr>\n",
       "    <tr>\n",
       "      <th></th>\n",
       "      <th>mean</th>\n",
       "      <th>max</th>\n",
       "      <th>min</th>\n",
       "      <th>mean</th>\n",
       "      <th>max</th>\n",
       "      <th>min</th>\n",
       "    </tr>\n",
       "    <tr>\n",
       "      <th>age_profile</th>\n",
       "      <th></th>\n",
       "      <th></th>\n",
       "      <th></th>\n",
       "      <th></th>\n",
       "      <th></th>\n",
       "      <th></th>\n",
       "    </tr>\n",
       "  </thead>\n",
       "  <tbody>\n",
       "    <tr>\n",
       "      <th>Middle-aged</th>\n",
       "      <td>74.333637</td>\n",
       "      <td>999.0</td>\n",
       "      <td>0.0</td>\n",
       "      <td>7.789660</td>\n",
       "      <td>25.0</td>\n",
       "      <td>1.0</td>\n",
       "    </tr>\n",
       "    <tr>\n",
       "      <th>Senior</th>\n",
       "      <td>74.459253</td>\n",
       "      <td>999.0</td>\n",
       "      <td>0.0</td>\n",
       "      <td>7.796546</td>\n",
       "      <td>25.0</td>\n",
       "      <td>1.0</td>\n",
       "    </tr>\n",
       "    <tr>\n",
       "      <th>Young</th>\n",
       "      <td>74.567177</td>\n",
       "      <td>999.0</td>\n",
       "      <td>0.0</td>\n",
       "      <td>7.785748</td>\n",
       "      <td>25.0</td>\n",
       "      <td>1.0</td>\n",
       "    </tr>\n",
       "  </tbody>\n",
       "</table>\n",
       "</div>"
      ],
      "text/plain": [
       "            days_since_prior_order                prices           \n",
       "                              mean    max  min      mean   max  min\n",
       "age_profile                                                        \n",
       "Middle-aged              74.333637  999.0  0.0  7.789660  25.0  1.0\n",
       "Senior                   74.459253  999.0  0.0  7.796546  25.0  1.0\n",
       "Young                    74.567177  999.0  0.0  7.785748  25.0  1.0"
      ]
     },
     "execution_count": 44,
     "metadata": {},
     "output_type": "execute_result"
    }
   ],
   "source": [
    "# age_profile stats\n",
    "\n",
    "df.groupby('age_profile').agg({'days_since_prior_order': ['mean', 'max', 'min'], 'prices': ['mean', 'max', 'min']})"
   ]
  },
  {
   "cell_type": "markdown",
   "id": "3a10a7fd",
   "metadata": {},
   "source": [
    "#### Income "
   ]
  },
  {
   "cell_type": "code",
   "execution_count": 45,
   "id": "f81dfaeb",
   "metadata": {},
   "outputs": [
    {
     "data": {
      "text/html": [
       "<div>\n",
       "<style scoped>\n",
       "    .dataframe tbody tr th:only-of-type {\n",
       "        vertical-align: middle;\n",
       "    }\n",
       "\n",
       "    .dataframe tbody tr th {\n",
       "        vertical-align: top;\n",
       "    }\n",
       "\n",
       "    .dataframe thead tr th {\n",
       "        text-align: left;\n",
       "    }\n",
       "\n",
       "    .dataframe thead tr:last-of-type th {\n",
       "        text-align: right;\n",
       "    }\n",
       "</style>\n",
       "<table border=\"1\" class=\"dataframe\">\n",
       "  <thead>\n",
       "    <tr>\n",
       "      <th></th>\n",
       "      <th colspan=\"3\" halign=\"left\">days_since_prior_order</th>\n",
       "      <th colspan=\"3\" halign=\"left\">prices</th>\n",
       "    </tr>\n",
       "    <tr>\n",
       "      <th></th>\n",
       "      <th>mean</th>\n",
       "      <th>max</th>\n",
       "      <th>min</th>\n",
       "      <th>mean</th>\n",
       "      <th>max</th>\n",
       "      <th>min</th>\n",
       "    </tr>\n",
       "    <tr>\n",
       "      <th>income_profile</th>\n",
       "      <th></th>\n",
       "      <th></th>\n",
       "      <th></th>\n",
       "      <th></th>\n",
       "      <th></th>\n",
       "      <th></th>\n",
       "    </tr>\n",
       "  </thead>\n",
       "  <tbody>\n",
       "    <tr>\n",
       "      <th>High-income</th>\n",
       "      <td>71.769128</td>\n",
       "      <td>999.0</td>\n",
       "      <td>0.0</td>\n",
       "      <td>7.946928</td>\n",
       "      <td>25.0</td>\n",
       "      <td>1.0</td>\n",
       "    </tr>\n",
       "    <tr>\n",
       "      <th>Low-income</th>\n",
       "      <td>77.154766</td>\n",
       "      <td>999.0</td>\n",
       "      <td>0.0</td>\n",
       "      <td>7.434729</td>\n",
       "      <td>25.0</td>\n",
       "      <td>1.0</td>\n",
       "    </tr>\n",
       "    <tr>\n",
       "      <th>Mid-income</th>\n",
       "      <td>73.381783</td>\n",
       "      <td>999.0</td>\n",
       "      <td>0.0</td>\n",
       "      <td>7.963487</td>\n",
       "      <td>25.0</td>\n",
       "      <td>1.0</td>\n",
       "    </tr>\n",
       "  </tbody>\n",
       "</table>\n",
       "</div>"
      ],
      "text/plain": [
       "               days_since_prior_order                prices           \n",
       "                                 mean    max  min      mean   max  min\n",
       "income_profile                                                        \n",
       "High-income                 71.769128  999.0  0.0  7.946928  25.0  1.0\n",
       "Low-income                  77.154766  999.0  0.0  7.434729  25.0  1.0\n",
       "Mid-income                  73.381783  999.0  0.0  7.963487  25.0  1.0"
      ]
     },
     "execution_count": 45,
     "metadata": {},
     "output_type": "execute_result"
    }
   ],
   "source": [
    "# income_profile stats\n",
    "\n",
    "df.groupby('income_profile').agg({'days_since_prior_order': ['mean', 'max', 'min'], 'prices': ['mean', 'max', 'min']})"
   ]
  },
  {
   "cell_type": "markdown",
   "id": "14160d3f",
   "metadata": {},
   "source": [
    "#### Veganism"
   ]
  },
  {
   "cell_type": "code",
   "execution_count": 46,
   "id": "6a09a72c",
   "metadata": {},
   "outputs": [
    {
     "data": {
      "text/html": [
       "<div>\n",
       "<style scoped>\n",
       "    .dataframe tbody tr th:only-of-type {\n",
       "        vertical-align: middle;\n",
       "    }\n",
       "\n",
       "    .dataframe tbody tr th {\n",
       "        vertical-align: top;\n",
       "    }\n",
       "\n",
       "    .dataframe thead tr th {\n",
       "        text-align: left;\n",
       "    }\n",
       "\n",
       "    .dataframe thead tr:last-of-type th {\n",
       "        text-align: right;\n",
       "    }\n",
       "</style>\n",
       "<table border=\"1\" class=\"dataframe\">\n",
       "  <thead>\n",
       "    <tr>\n",
       "      <th></th>\n",
       "      <th colspan=\"3\" halign=\"left\">days_since_prior_order</th>\n",
       "      <th colspan=\"3\" halign=\"left\">prices</th>\n",
       "    </tr>\n",
       "    <tr>\n",
       "      <th></th>\n",
       "      <th>mean</th>\n",
       "      <th>max</th>\n",
       "      <th>min</th>\n",
       "      <th>mean</th>\n",
       "      <th>max</th>\n",
       "      <th>min</th>\n",
       "    </tr>\n",
       "    <tr>\n",
       "      <th>vegan_profile</th>\n",
       "      <th></th>\n",
       "      <th></th>\n",
       "      <th></th>\n",
       "      <th></th>\n",
       "      <th></th>\n",
       "      <th></th>\n",
       "    </tr>\n",
       "  </thead>\n",
       "  <tbody>\n",
       "    <tr>\n",
       "      <th>Non-vegan</th>\n",
       "      <td>73.631047</td>\n",
       "      <td>999.0</td>\n",
       "      <td>0.0</td>\n",
       "      <td>7.800348</td>\n",
       "      <td>25.0</td>\n",
       "      <td>1.0</td>\n",
       "    </tr>\n",
       "    <tr>\n",
       "      <th>Vegan</th>\n",
       "      <td>138.282781</td>\n",
       "      <td>999.0</td>\n",
       "      <td>0.0</td>\n",
       "      <td>7.009920</td>\n",
       "      <td>20.0</td>\n",
       "      <td>1.0</td>\n",
       "    </tr>\n",
       "  </tbody>\n",
       "</table>\n",
       "</div>"
      ],
      "text/plain": [
       "              days_since_prior_order                prices           \n",
       "                                mean    max  min      mean   max  min\n",
       "vegan_profile                                                        \n",
       "Non-vegan                  73.631047  999.0  0.0  7.800348  25.0  1.0\n",
       "Vegan                     138.282781  999.0  0.0  7.009920  20.0  1.0"
      ]
     },
     "execution_count": 46,
     "metadata": {},
     "output_type": "execute_result"
    }
   ],
   "source": [
    "# vegan_profile stats\n",
    "\n",
    "df.groupby('vegan_profile').agg({'days_since_prior_order': ['mean', 'max', 'min'], 'prices': ['mean', 'max', 'min']})"
   ]
  },
  {
   "cell_type": "markdown",
   "id": "6cea9859",
   "metadata": {},
   "source": [
    "#### Family Status"
   ]
  },
  {
   "cell_type": "code",
   "execution_count": 47,
   "id": "17a045c8",
   "metadata": {},
   "outputs": [
    {
     "data": {
      "text/html": [
       "<div>\n",
       "<style scoped>\n",
       "    .dataframe tbody tr th:only-of-type {\n",
       "        vertical-align: middle;\n",
       "    }\n",
       "\n",
       "    .dataframe tbody tr th {\n",
       "        vertical-align: top;\n",
       "    }\n",
       "\n",
       "    .dataframe thead tr th {\n",
       "        text-align: left;\n",
       "    }\n",
       "\n",
       "    .dataframe thead tr:last-of-type th {\n",
       "        text-align: right;\n",
       "    }\n",
       "</style>\n",
       "<table border=\"1\" class=\"dataframe\">\n",
       "  <thead>\n",
       "    <tr>\n",
       "      <th></th>\n",
       "      <th colspan=\"3\" halign=\"left\">days_since_prior_order</th>\n",
       "      <th colspan=\"3\" halign=\"left\">prices</th>\n",
       "    </tr>\n",
       "    <tr>\n",
       "      <th></th>\n",
       "      <th>mean</th>\n",
       "      <th>max</th>\n",
       "      <th>min</th>\n",
       "      <th>mean</th>\n",
       "      <th>max</th>\n",
       "      <th>min</th>\n",
       "    </tr>\n",
       "    <tr>\n",
       "      <th>family_profile</th>\n",
       "      <th></th>\n",
       "      <th></th>\n",
       "      <th></th>\n",
       "      <th></th>\n",
       "      <th></th>\n",
       "      <th></th>\n",
       "    </tr>\n",
       "  </thead>\n",
       "  <tbody>\n",
       "    <tr>\n",
       "      <th>Married no children</th>\n",
       "      <td>74.751473</td>\n",
       "      <td>999.0</td>\n",
       "      <td>0.0</td>\n",
       "      <td>7.795712</td>\n",
       "      <td>25.0</td>\n",
       "      <td>1.0</td>\n",
       "    </tr>\n",
       "    <tr>\n",
       "      <th>Married with children</th>\n",
       "      <td>74.328029</td>\n",
       "      <td>999.0</td>\n",
       "      <td>0.0</td>\n",
       "      <td>7.788203</td>\n",
       "      <td>25.0</td>\n",
       "      <td>1.0</td>\n",
       "    </tr>\n",
       "    <tr>\n",
       "      <th>Single no children</th>\n",
       "      <td>74.297240</td>\n",
       "      <td>999.0</td>\n",
       "      <td>0.0</td>\n",
       "      <td>7.789975</td>\n",
       "      <td>25.0</td>\n",
       "      <td>1.0</td>\n",
       "    </tr>\n",
       "    <tr>\n",
       "      <th>Single with children</th>\n",
       "      <td>73.847915</td>\n",
       "      <td>999.0</td>\n",
       "      <td>0.0</td>\n",
       "      <td>7.800712</td>\n",
       "      <td>25.0</td>\n",
       "      <td>1.0</td>\n",
       "    </tr>\n",
       "  </tbody>\n",
       "</table>\n",
       "</div>"
      ],
      "text/plain": [
       "                      days_since_prior_order                prices           \n",
       "                                        mean    max  min      mean   max  min\n",
       "family_profile                                                               \n",
       "Married no children                74.751473  999.0  0.0  7.795712  25.0  1.0\n",
       "Married with children              74.328029  999.0  0.0  7.788203  25.0  1.0\n",
       "Single no children                 74.297240  999.0  0.0  7.789975  25.0  1.0\n",
       "Single with children               73.847915  999.0  0.0  7.800712  25.0  1.0"
      ]
     },
     "execution_count": 47,
     "metadata": {},
     "output_type": "execute_result"
    }
   ],
   "source": [
    "# family_profile stats\n",
    "\n",
    "df.groupby('family_profile').agg({'days_since_prior_order': ['mean', 'max', 'min'], 'prices': ['mean', 'max', 'min']})"
   ]
  },
  {
   "cell_type": "markdown",
   "id": "c7b8701d",
   "metadata": {},
   "source": [
    "### 08. Compare your customer profiles with regions and departments."
   ]
  },
  {
   "cell_type": "markdown",
   "id": "fbf165b7",
   "metadata": {},
   "source": [
    "#### Age"
   ]
  },
  {
   "cell_type": "code",
   "execution_count": 48,
   "id": "6f12a39b",
   "metadata": {},
   "outputs": [],
   "source": [
    "# Creating a crosstab comparing 'age_profile' and 'region', looking at column percentages\n",
    "# normalize = 'columns' gives the column percentages\n",
    "\n",
    "age_region_cross = pd.crosstab(df['age_profile'], df['region'], normalize = 'columns')"
   ]
  },
  {
   "cell_type": "code",
   "execution_count": 49,
   "id": "7e0f91a5",
   "metadata": {},
   "outputs": [
    {
     "data": {
      "text/html": [
       "<div>\n",
       "<style scoped>\n",
       "    .dataframe tbody tr th:only-of-type {\n",
       "        vertical-align: middle;\n",
       "    }\n",
       "\n",
       "    .dataframe tbody tr th {\n",
       "        vertical-align: top;\n",
       "    }\n",
       "\n",
       "    .dataframe thead th {\n",
       "        text-align: right;\n",
       "    }\n",
       "</style>\n",
       "<table border=\"1\" class=\"dataframe\">\n",
       "  <thead>\n",
       "    <tr style=\"text-align: right;\">\n",
       "      <th>region</th>\n",
       "      <th>Midwest</th>\n",
       "      <th>Northeast</th>\n",
       "      <th>South</th>\n",
       "      <th>West</th>\n",
       "    </tr>\n",
       "    <tr>\n",
       "      <th>age_profile</th>\n",
       "      <th></th>\n",
       "      <th></th>\n",
       "      <th></th>\n",
       "      <th></th>\n",
       "    </tr>\n",
       "  </thead>\n",
       "  <tbody>\n",
       "    <tr>\n",
       "      <th>Middle-aged</th>\n",
       "      <td>0.614288</td>\n",
       "      <td>0.604208</td>\n",
       "      <td>0.609621</td>\n",
       "      <td>0.612686</td>\n",
       "    </tr>\n",
       "    <tr>\n",
       "      <th>Senior</th>\n",
       "      <td>0.262045</td>\n",
       "      <td>0.271531</td>\n",
       "      <td>0.262814</td>\n",
       "      <td>0.264573</td>\n",
       "    </tr>\n",
       "    <tr>\n",
       "      <th>Young</th>\n",
       "      <td>0.123666</td>\n",
       "      <td>0.124261</td>\n",
       "      <td>0.127565</td>\n",
       "      <td>0.122741</td>\n",
       "    </tr>\n",
       "  </tbody>\n",
       "</table>\n",
       "</div>"
      ],
      "text/plain": [
       "region        Midwest  Northeast     South      West\n",
       "age_profile                                         \n",
       "Middle-aged  0.614288   0.604208  0.609621  0.612686\n",
       "Senior       0.262045   0.271531  0.262814  0.264573\n",
       "Young        0.123666   0.124261  0.127565  0.122741"
      ]
     },
     "execution_count": 49,
     "metadata": {},
     "output_type": "execute_result"
    }
   ],
   "source": [
    "age_region_cross"
   ]
  },
  {
   "cell_type": "markdown",
   "id": "a4471b34",
   "metadata": {},
   "source": [
    "#### Income "
   ]
  },
  {
   "cell_type": "code",
   "execution_count": 50,
   "id": "10d6bd70",
   "metadata": {},
   "outputs": [],
   "source": [
    "# Creating a crosstab comparing 'income_profile' and 'region', looking at column percentages\n",
    "# normalize = 'columns' gives the column percentages\n",
    "\n",
    "income_region_cross = pd.crosstab(df['income_profile'], df['region'], normalize = 'columns')"
   ]
  },
  {
   "cell_type": "code",
   "execution_count": 51,
   "id": "20685803",
   "metadata": {},
   "outputs": [
    {
     "data": {
      "text/html": [
       "<div>\n",
       "<style scoped>\n",
       "    .dataframe tbody tr th:only-of-type {\n",
       "        vertical-align: middle;\n",
       "    }\n",
       "\n",
       "    .dataframe tbody tr th {\n",
       "        vertical-align: top;\n",
       "    }\n",
       "\n",
       "    .dataframe thead th {\n",
       "        text-align: right;\n",
       "    }\n",
       "</style>\n",
       "<table border=\"1\" class=\"dataframe\">\n",
       "  <thead>\n",
       "    <tr style=\"text-align: right;\">\n",
       "      <th>region</th>\n",
       "      <th>Midwest</th>\n",
       "      <th>Northeast</th>\n",
       "      <th>South</th>\n",
       "      <th>West</th>\n",
       "    </tr>\n",
       "    <tr>\n",
       "      <th>income_profile</th>\n",
       "      <th></th>\n",
       "      <th></th>\n",
       "      <th></th>\n",
       "      <th></th>\n",
       "    </tr>\n",
       "  </thead>\n",
       "  <tbody>\n",
       "    <tr>\n",
       "      <th>High-income</th>\n",
       "      <td>0.125827</td>\n",
       "      <td>0.123505</td>\n",
       "      <td>0.124372</td>\n",
       "      <td>0.126208</td>\n",
       "    </tr>\n",
       "    <tr>\n",
       "      <th>Low-income</th>\n",
       "      <td>0.319571</td>\n",
       "      <td>0.318405</td>\n",
       "      <td>0.323667</td>\n",
       "      <td>0.325550</td>\n",
       "    </tr>\n",
       "    <tr>\n",
       "      <th>Mid-income</th>\n",
       "      <td>0.554602</td>\n",
       "      <td>0.558090</td>\n",
       "      <td>0.551961</td>\n",
       "      <td>0.548242</td>\n",
       "    </tr>\n",
       "  </tbody>\n",
       "</table>\n",
       "</div>"
      ],
      "text/plain": [
       "region           Midwest  Northeast     South      West\n",
       "income_profile                                         \n",
       "High-income     0.125827   0.123505  0.124372  0.126208\n",
       "Low-income      0.319571   0.318405  0.323667  0.325550\n",
       "Mid-income      0.554602   0.558090  0.551961  0.548242"
      ]
     },
     "execution_count": 51,
     "metadata": {},
     "output_type": "execute_result"
    }
   ],
   "source": [
    "income_region_cross"
   ]
  },
  {
   "cell_type": "markdown",
   "id": "471dfcf0",
   "metadata": {},
   "source": [
    "#### Veganism"
   ]
  },
  {
   "cell_type": "code",
   "execution_count": 52,
   "id": "b350665f",
   "metadata": {},
   "outputs": [],
   "source": [
    "# Creating a crosstab comparing 'vegan_profile' and 'region', looking at column percentages\n",
    "# normalize = 'columns' gives the column percentages\n",
    "\n",
    "vegan_region_cross = pd.crosstab(df['vegan_profile'], df['region'], normalize = 'columns')"
   ]
  },
  {
   "cell_type": "code",
   "execution_count": 53,
   "id": "302054eb",
   "metadata": {},
   "outputs": [
    {
     "data": {
      "text/html": [
       "<div>\n",
       "<style scoped>\n",
       "    .dataframe tbody tr th:only-of-type {\n",
       "        vertical-align: middle;\n",
       "    }\n",
       "\n",
       "    .dataframe tbody tr th {\n",
       "        vertical-align: top;\n",
       "    }\n",
       "\n",
       "    .dataframe thead th {\n",
       "        text-align: right;\n",
       "    }\n",
       "</style>\n",
       "<table border=\"1\" class=\"dataframe\">\n",
       "  <thead>\n",
       "    <tr style=\"text-align: right;\">\n",
       "      <th>region</th>\n",
       "      <th>Midwest</th>\n",
       "      <th>Northeast</th>\n",
       "      <th>South</th>\n",
       "      <th>West</th>\n",
       "    </tr>\n",
       "    <tr>\n",
       "      <th>vegan_profile</th>\n",
       "      <th></th>\n",
       "      <th></th>\n",
       "      <th></th>\n",
       "      <th></th>\n",
       "    </tr>\n",
       "  </thead>\n",
       "  <tbody>\n",
       "    <tr>\n",
       "      <th>Non-vegan</th>\n",
       "      <td>0.988115</td>\n",
       "      <td>0.988159</td>\n",
       "      <td>0.988389</td>\n",
       "      <td>0.987934</td>\n",
       "    </tr>\n",
       "    <tr>\n",
       "      <th>Vegan</th>\n",
       "      <td>0.011885</td>\n",
       "      <td>0.011841</td>\n",
       "      <td>0.011611</td>\n",
       "      <td>0.012066</td>\n",
       "    </tr>\n",
       "  </tbody>\n",
       "</table>\n",
       "</div>"
      ],
      "text/plain": [
       "region          Midwest  Northeast     South      West\n",
       "vegan_profile                                         \n",
       "Non-vegan      0.988115   0.988159  0.988389  0.987934\n",
       "Vegan          0.011885   0.011841  0.011611  0.012066"
      ]
     },
     "execution_count": 53,
     "metadata": {},
     "output_type": "execute_result"
    }
   ],
   "source": [
    "vegan_region_cross"
   ]
  },
  {
   "cell_type": "markdown",
   "id": "8d5973db",
   "metadata": {},
   "source": [
    "#### Family Status"
   ]
  },
  {
   "cell_type": "code",
   "execution_count": 54,
   "id": "858cfe4e",
   "metadata": {},
   "outputs": [],
   "source": [
    "# Creating a crosstab comparing 'family_profile' and 'region', looking at column percentages\n",
    "# normalize = 'columns' gives the column percentages\n",
    "\n",
    "family_region_cross = pd.crosstab(df['family_profile'], df['region'], normalize = 'columns')"
   ]
  },
  {
   "cell_type": "code",
   "execution_count": 55,
   "id": "daa4c45f",
   "metadata": {},
   "outputs": [
    {
     "data": {
      "text/html": [
       "<div>\n",
       "<style scoped>\n",
       "    .dataframe tbody tr th:only-of-type {\n",
       "        vertical-align: middle;\n",
       "    }\n",
       "\n",
       "    .dataframe tbody tr th {\n",
       "        vertical-align: top;\n",
       "    }\n",
       "\n",
       "    .dataframe thead th {\n",
       "        text-align: right;\n",
       "    }\n",
       "</style>\n",
       "<table border=\"1\" class=\"dataframe\">\n",
       "  <thead>\n",
       "    <tr style=\"text-align: right;\">\n",
       "      <th>region</th>\n",
       "      <th>Midwest</th>\n",
       "      <th>Northeast</th>\n",
       "      <th>South</th>\n",
       "      <th>West</th>\n",
       "    </tr>\n",
       "    <tr>\n",
       "      <th>family_profile</th>\n",
       "      <th></th>\n",
       "      <th></th>\n",
       "      <th></th>\n",
       "      <th></th>\n",
       "    </tr>\n",
       "  </thead>\n",
       "  <tbody>\n",
       "    <tr>\n",
       "      <th>Married no children</th>\n",
       "      <td>0.236932</td>\n",
       "      <td>0.236116</td>\n",
       "      <td>0.229883</td>\n",
       "      <td>0.231373</td>\n",
       "    </tr>\n",
       "    <tr>\n",
       "      <th>Married with children</th>\n",
       "      <td>0.464053</td>\n",
       "      <td>0.469197</td>\n",
       "      <td>0.470703</td>\n",
       "      <td>0.472141</td>\n",
       "    </tr>\n",
       "    <tr>\n",
       "      <th>Single no children</th>\n",
       "      <td>0.250772</td>\n",
       "      <td>0.247836</td>\n",
       "      <td>0.250342</td>\n",
       "      <td>0.249893</td>\n",
       "    </tr>\n",
       "    <tr>\n",
       "      <th>Single with children</th>\n",
       "      <td>0.048243</td>\n",
       "      <td>0.046851</td>\n",
       "      <td>0.049072</td>\n",
       "      <td>0.046593</td>\n",
       "    </tr>\n",
       "  </tbody>\n",
       "</table>\n",
       "</div>"
      ],
      "text/plain": [
       "region                  Midwest  Northeast     South      West\n",
       "family_profile                                                \n",
       "Married no children    0.236932   0.236116  0.229883  0.231373\n",
       "Married with children  0.464053   0.469197  0.470703  0.472141\n",
       "Single no children     0.250772   0.247836  0.250342  0.249893\n",
       "Single with children   0.048243   0.046851  0.049072  0.046593"
      ]
     },
     "execution_count": 55,
     "metadata": {},
     "output_type": "execute_result"
    }
   ],
   "source": [
    "family_region_cross"
   ]
  },
  {
   "cell_type": "markdown",
   "id": "c2213af8",
   "metadata": {},
   "source": [
    "#### Customer Profiles by Department"
   ]
  },
  {
   "cell_type": "markdown",
   "id": "19b358a9",
   "metadata": {},
   "source": [
    "#### Age "
   ]
  },
  {
   "cell_type": "code",
   "execution_count": 56,
   "id": "49858aa1",
   "metadata": {},
   "outputs": [],
   "source": [
    "# Creating a crosstab comparing 'age_profile' and 'department_id', looking at row percentages\n",
    "# normalize = 'index' gives row percentages\n",
    "\n",
    "age_department_cross = pd.crosstab(df['age_profile'], df['department_id'], normalize = 'index')   "
   ]
  },
  {
   "cell_type": "code",
   "execution_count": 57,
   "id": "b80e7e06",
   "metadata": {},
   "outputs": [
    {
     "data": {
      "text/html": [
       "<div>\n",
       "<style scoped>\n",
       "    .dataframe tbody tr th:only-of-type {\n",
       "        vertical-align: middle;\n",
       "    }\n",
       "\n",
       "    .dataframe tbody tr th {\n",
       "        vertical-align: top;\n",
       "    }\n",
       "\n",
       "    .dataframe thead th {\n",
       "        text-align: right;\n",
       "    }\n",
       "</style>\n",
       "<table border=\"1\" class=\"dataframe\">\n",
       "  <thead>\n",
       "    <tr style=\"text-align: right;\">\n",
       "      <th>department_id</th>\n",
       "      <th>1</th>\n",
       "      <th>2</th>\n",
       "      <th>3</th>\n",
       "      <th>4</th>\n",
       "      <th>5</th>\n",
       "      <th>6</th>\n",
       "      <th>7</th>\n",
       "      <th>8</th>\n",
       "      <th>9</th>\n",
       "      <th>10</th>\n",
       "      <th>11</th>\n",
       "      <th>12</th>\n",
       "      <th>13</th>\n",
       "      <th>14</th>\n",
       "      <th>15</th>\n",
       "      <th>16</th>\n",
       "      <th>17</th>\n",
       "      <th>18</th>\n",
       "      <th>19</th>\n",
       "      <th>20</th>\n",
       "      <th>21</th>\n",
       "    </tr>\n",
       "    <tr>\n",
       "      <th>age_profile</th>\n",
       "      <th></th>\n",
       "      <th></th>\n",
       "      <th></th>\n",
       "      <th></th>\n",
       "      <th></th>\n",
       "      <th></th>\n",
       "      <th></th>\n",
       "      <th></th>\n",
       "      <th></th>\n",
       "      <th></th>\n",
       "      <th></th>\n",
       "      <th></th>\n",
       "      <th></th>\n",
       "      <th></th>\n",
       "      <th></th>\n",
       "      <th></th>\n",
       "      <th></th>\n",
       "      <th></th>\n",
       "      <th></th>\n",
       "      <th></th>\n",
       "      <th></th>\n",
       "    </tr>\n",
       "  </thead>\n",
       "  <tbody>\n",
       "    <tr>\n",
       "      <th>Middle-aged</th>\n",
       "      <td>0.068796</td>\n",
       "      <td>0.001122</td>\n",
       "      <td>0.036214</td>\n",
       "      <td>0.292547</td>\n",
       "      <td>0.004764</td>\n",
       "      <td>0.008312</td>\n",
       "      <td>0.082903</td>\n",
       "      <td>0.002938</td>\n",
       "      <td>0.026682</td>\n",
       "      <td>0.001057</td>\n",
       "      <td>0.013867</td>\n",
       "      <td>0.021732</td>\n",
       "      <td>0.057853</td>\n",
       "      <td>0.021718</td>\n",
       "      <td>0.032962</td>\n",
       "      <td>0.166679</td>\n",
       "      <td>0.022748</td>\n",
       "      <td>0.013210</td>\n",
       "      <td>0.089266</td>\n",
       "      <td>0.032507</td>\n",
       "      <td>0.002125</td>\n",
       "    </tr>\n",
       "    <tr>\n",
       "      <th>Senior</th>\n",
       "      <td>0.069232</td>\n",
       "      <td>0.001099</td>\n",
       "      <td>0.036096</td>\n",
       "      <td>0.293147</td>\n",
       "      <td>0.004552</td>\n",
       "      <td>0.008253</td>\n",
       "      <td>0.083362</td>\n",
       "      <td>0.003065</td>\n",
       "      <td>0.026698</td>\n",
       "      <td>0.001078</td>\n",
       "      <td>0.013691</td>\n",
       "      <td>0.022171</td>\n",
       "      <td>0.057956</td>\n",
       "      <td>0.021439</td>\n",
       "      <td>0.032937</td>\n",
       "      <td>0.166321</td>\n",
       "      <td>0.022966</td>\n",
       "      <td>0.012763</td>\n",
       "      <td>0.088689</td>\n",
       "      <td>0.032375</td>\n",
       "      <td>0.002110</td>\n",
       "    </tr>\n",
       "    <tr>\n",
       "      <th>Young</th>\n",
       "      <td>0.069212</td>\n",
       "      <td>0.001154</td>\n",
       "      <td>0.036198</td>\n",
       "      <td>0.291112</td>\n",
       "      <td>0.005046</td>\n",
       "      <td>0.008414</td>\n",
       "      <td>0.082342</td>\n",
       "      <td>0.003287</td>\n",
       "      <td>0.027146</td>\n",
       "      <td>0.001093</td>\n",
       "      <td>0.013798</td>\n",
       "      <td>0.021965</td>\n",
       "      <td>0.057796</td>\n",
       "      <td>0.022129</td>\n",
       "      <td>0.033000</td>\n",
       "      <td>0.166830</td>\n",
       "      <td>0.022662</td>\n",
       "      <td>0.013105</td>\n",
       "      <td>0.089228</td>\n",
       "      <td>0.032261</td>\n",
       "      <td>0.002225</td>\n",
       "    </tr>\n",
       "  </tbody>\n",
       "</table>\n",
       "</div>"
      ],
      "text/plain": [
       "department_id        1         2         3         4         5         6   \\\n",
       "age_profile                                                                 \n",
       "Middle-aged    0.068796  0.001122  0.036214  0.292547  0.004764  0.008312   \n",
       "Senior         0.069232  0.001099  0.036096  0.293147  0.004552  0.008253   \n",
       "Young          0.069212  0.001154  0.036198  0.291112  0.005046  0.008414   \n",
       "\n",
       "department_id        7         8         9         10        11        12  \\\n",
       "age_profile                                                                 \n",
       "Middle-aged    0.082903  0.002938  0.026682  0.001057  0.013867  0.021732   \n",
       "Senior         0.083362  0.003065  0.026698  0.001078  0.013691  0.022171   \n",
       "Young          0.082342  0.003287  0.027146  0.001093  0.013798  0.021965   \n",
       "\n",
       "department_id        13        14        15        16        17        18  \\\n",
       "age_profile                                                                 \n",
       "Middle-aged    0.057853  0.021718  0.032962  0.166679  0.022748  0.013210   \n",
       "Senior         0.057956  0.021439  0.032937  0.166321  0.022966  0.012763   \n",
       "Young          0.057796  0.022129  0.033000  0.166830  0.022662  0.013105   \n",
       "\n",
       "department_id        19        20        21  \n",
       "age_profile                                  \n",
       "Middle-aged    0.089266  0.032507  0.002125  \n",
       "Senior         0.088689  0.032375  0.002110  \n",
       "Young          0.089228  0.032261  0.002225  "
      ]
     },
     "execution_count": 57,
     "metadata": {},
     "output_type": "execute_result"
    }
   ],
   "source": [
    "pd.set_option('display.max_columns', None)    # displays all columns\n",
    "\n",
    "age_department_cross"
   ]
  },
  {
   "cell_type": "markdown",
   "id": "f6c27c1c",
   "metadata": {},
   "source": [
    "#### Income"
   ]
  },
  {
   "cell_type": "code",
   "execution_count": 58,
   "id": "6754cd18",
   "metadata": {},
   "outputs": [],
   "source": [
    "# Creating a crosstab comparing 'income_profile' and 'department_id', looking at row percentages\n",
    "# normalize = 'index' gives row percentages\n",
    "\n",
    "income_department_cross = pd.crosstab(df['income_profile'], df['department_id'], normalize = 'index')"
   ]
  },
  {
   "cell_type": "code",
   "execution_count": 59,
   "id": "784267ea",
   "metadata": {},
   "outputs": [
    {
     "data": {
      "text/html": [
       "<div>\n",
       "<style scoped>\n",
       "    .dataframe tbody tr th:only-of-type {\n",
       "        vertical-align: middle;\n",
       "    }\n",
       "\n",
       "    .dataframe tbody tr th {\n",
       "        vertical-align: top;\n",
       "    }\n",
       "\n",
       "    .dataframe thead th {\n",
       "        text-align: right;\n",
       "    }\n",
       "</style>\n",
       "<table border=\"1\" class=\"dataframe\">\n",
       "  <thead>\n",
       "    <tr style=\"text-align: right;\">\n",
       "      <th>department_id</th>\n",
       "      <th>1</th>\n",
       "      <th>2</th>\n",
       "      <th>3</th>\n",
       "      <th>4</th>\n",
       "      <th>5</th>\n",
       "      <th>6</th>\n",
       "      <th>7</th>\n",
       "      <th>8</th>\n",
       "      <th>9</th>\n",
       "      <th>10</th>\n",
       "      <th>11</th>\n",
       "      <th>12</th>\n",
       "      <th>13</th>\n",
       "      <th>14</th>\n",
       "      <th>15</th>\n",
       "      <th>16</th>\n",
       "      <th>17</th>\n",
       "      <th>18</th>\n",
       "      <th>19</th>\n",
       "      <th>20</th>\n",
       "      <th>21</th>\n",
       "    </tr>\n",
       "    <tr>\n",
       "      <th>income_profile</th>\n",
       "      <th></th>\n",
       "      <th></th>\n",
       "      <th></th>\n",
       "      <th></th>\n",
       "      <th></th>\n",
       "      <th></th>\n",
       "      <th></th>\n",
       "      <th></th>\n",
       "      <th></th>\n",
       "      <th></th>\n",
       "      <th></th>\n",
       "      <th></th>\n",
       "      <th></th>\n",
       "      <th></th>\n",
       "      <th></th>\n",
       "      <th></th>\n",
       "      <th></th>\n",
       "      <th></th>\n",
       "      <th></th>\n",
       "      <th></th>\n",
       "      <th></th>\n",
       "    </tr>\n",
       "  </thead>\n",
       "  <tbody>\n",
       "    <tr>\n",
       "      <th>High-income</th>\n",
       "      <td>0.071178</td>\n",
       "      <td>0.001172</td>\n",
       "      <td>0.038023</td>\n",
       "      <td>0.291115</td>\n",
       "      <td>0.006159</td>\n",
       "      <td>0.008462</td>\n",
       "      <td>0.080252</td>\n",
       "      <td>0.003335</td>\n",
       "      <td>0.027462</td>\n",
       "      <td>0.000931</td>\n",
       "      <td>0.013835</td>\n",
       "      <td>0.023628</td>\n",
       "      <td>0.059801</td>\n",
       "      <td>0.021438</td>\n",
       "      <td>0.034248</td>\n",
       "      <td>0.168907</td>\n",
       "      <td>0.023887</td>\n",
       "      <td>0.013435</td>\n",
       "      <td>0.078240</td>\n",
       "      <td>0.032334</td>\n",
       "      <td>0.002157</td>\n",
       "    </tr>\n",
       "    <tr>\n",
       "      <th>Low-income</th>\n",
       "      <td>0.067229</td>\n",
       "      <td>0.001114</td>\n",
       "      <td>0.034505</td>\n",
       "      <td>0.279570</td>\n",
       "      <td>0.004614</td>\n",
       "      <td>0.007760</td>\n",
       "      <td>0.091741</td>\n",
       "      <td>0.002845</td>\n",
       "      <td>0.024468</td>\n",
       "      <td>0.001184</td>\n",
       "      <td>0.013988</td>\n",
       "      <td>0.017992</td>\n",
       "      <td>0.055207</td>\n",
       "      <td>0.023537</td>\n",
       "      <td>0.030146</td>\n",
       "      <td>0.160883</td>\n",
       "      <td>0.023559</td>\n",
       "      <td>0.011447</td>\n",
       "      <td>0.113855</td>\n",
       "      <td>0.032205</td>\n",
       "      <td>0.002150</td>\n",
       "    </tr>\n",
       "    <tr>\n",
       "      <th>Mid-income</th>\n",
       "      <td>0.069473</td>\n",
       "      <td>0.001111</td>\n",
       "      <td>0.036741</td>\n",
       "      <td>0.300400</td>\n",
       "      <td>0.004498</td>\n",
       "      <td>0.008595</td>\n",
       "      <td>0.078442</td>\n",
       "      <td>0.003043</td>\n",
       "      <td>0.027908</td>\n",
       "      <td>0.001029</td>\n",
       "      <td>0.013704</td>\n",
       "      <td>0.023747</td>\n",
       "      <td>0.058992</td>\n",
       "      <td>0.020680</td>\n",
       "      <td>0.034309</td>\n",
       "      <td>0.169417</td>\n",
       "      <td>0.022102</td>\n",
       "      <td>0.013949</td>\n",
       "      <td>0.077139</td>\n",
       "      <td>0.032603</td>\n",
       "      <td>0.002119</td>\n",
       "    </tr>\n",
       "  </tbody>\n",
       "</table>\n",
       "</div>"
      ],
      "text/plain": [
       "department_id         1         2         3         4         5         6   \\\n",
       "income_profile                                                               \n",
       "High-income     0.071178  0.001172  0.038023  0.291115  0.006159  0.008462   \n",
       "Low-income      0.067229  0.001114  0.034505  0.279570  0.004614  0.007760   \n",
       "Mid-income      0.069473  0.001111  0.036741  0.300400  0.004498  0.008595   \n",
       "\n",
       "department_id         7         8         9         10        11        12  \\\n",
       "income_profile                                                               \n",
       "High-income     0.080252  0.003335  0.027462  0.000931  0.013835  0.023628   \n",
       "Low-income      0.091741  0.002845  0.024468  0.001184  0.013988  0.017992   \n",
       "Mid-income      0.078442  0.003043  0.027908  0.001029  0.013704  0.023747   \n",
       "\n",
       "department_id         13        14        15        16        17        18  \\\n",
       "income_profile                                                               \n",
       "High-income     0.059801  0.021438  0.034248  0.168907  0.023887  0.013435   \n",
       "Low-income      0.055207  0.023537  0.030146  0.160883  0.023559  0.011447   \n",
       "Mid-income      0.058992  0.020680  0.034309  0.169417  0.022102  0.013949   \n",
       "\n",
       "department_id         19        20        21  \n",
       "income_profile                                \n",
       "High-income     0.078240  0.032334  0.002157  \n",
       "Low-income      0.113855  0.032205  0.002150  \n",
       "Mid-income      0.077139  0.032603  0.002119  "
      ]
     },
     "execution_count": 59,
     "metadata": {},
     "output_type": "execute_result"
    }
   ],
   "source": [
    "income_department_cross"
   ]
  },
  {
   "cell_type": "markdown",
   "id": "4b6bf80c",
   "metadata": {},
   "source": [
    "#### Veganism"
   ]
  },
  {
   "cell_type": "code",
   "execution_count": 60,
   "id": "fbcdf5cc",
   "metadata": {},
   "outputs": [],
   "source": [
    "# Creating a crosstab comparing 'vegan_profile' and 'department_id'\n",
    "# normalize = 'index' gives row percentages\n",
    "\n",
    "vegan_department_cross = pd.crosstab(df['vegan_profile'], df['department_id'], normalize = 'index')"
   ]
  },
  {
   "cell_type": "code",
   "execution_count": 61,
   "id": "0fa70012",
   "metadata": {},
   "outputs": [
    {
     "data": {
      "text/html": [
       "<div>\n",
       "<style scoped>\n",
       "    .dataframe tbody tr th:only-of-type {\n",
       "        vertical-align: middle;\n",
       "    }\n",
       "\n",
       "    .dataframe tbody tr th {\n",
       "        vertical-align: top;\n",
       "    }\n",
       "\n",
       "    .dataframe thead th {\n",
       "        text-align: right;\n",
       "    }\n",
       "</style>\n",
       "<table border=\"1\" class=\"dataframe\">\n",
       "  <thead>\n",
       "    <tr style=\"text-align: right;\">\n",
       "      <th>department_id</th>\n",
       "      <th>1</th>\n",
       "      <th>2</th>\n",
       "      <th>3</th>\n",
       "      <th>4</th>\n",
       "      <th>5</th>\n",
       "      <th>6</th>\n",
       "      <th>7</th>\n",
       "      <th>8</th>\n",
       "      <th>9</th>\n",
       "      <th>10</th>\n",
       "      <th>11</th>\n",
       "      <th>12</th>\n",
       "      <th>13</th>\n",
       "      <th>14</th>\n",
       "      <th>15</th>\n",
       "      <th>16</th>\n",
       "      <th>17</th>\n",
       "      <th>18</th>\n",
       "      <th>19</th>\n",
       "      <th>20</th>\n",
       "      <th>21</th>\n",
       "    </tr>\n",
       "    <tr>\n",
       "      <th>vegan_profile</th>\n",
       "      <th></th>\n",
       "      <th></th>\n",
       "      <th></th>\n",
       "      <th></th>\n",
       "      <th></th>\n",
       "      <th></th>\n",
       "      <th></th>\n",
       "      <th></th>\n",
       "      <th></th>\n",
       "      <th></th>\n",
       "      <th></th>\n",
       "      <th></th>\n",
       "      <th></th>\n",
       "      <th></th>\n",
       "      <th></th>\n",
       "      <th></th>\n",
       "      <th></th>\n",
       "      <th></th>\n",
       "      <th></th>\n",
       "      <th></th>\n",
       "      <th></th>\n",
       "    </tr>\n",
       "  </thead>\n",
       "  <tbody>\n",
       "    <tr>\n",
       "      <th>Non-vegan</th>\n",
       "      <td>0.069073</td>\n",
       "      <td>0.001104</td>\n",
       "      <td>0.036399</td>\n",
       "      <td>0.292392</td>\n",
       "      <td>0.004387</td>\n",
       "      <td>0.008358</td>\n",
       "      <td>0.081628</td>\n",
       "      <td>0.003010</td>\n",
       "      <td>0.026952</td>\n",
       "      <td>0.001059</td>\n",
       "      <td>0.013644</td>\n",
       "      <td>0.022139</td>\n",
       "      <td>0.058016</td>\n",
       "      <td>0.021700</td>\n",
       "      <td>0.033148</td>\n",
       "      <td>0.168598</td>\n",
       "      <td>0.022303</td>\n",
       "      <td>0.013163</td>\n",
       "      <td>0.088189</td>\n",
       "      <td>0.032604</td>\n",
       "      <td>0.002135</td>\n",
       "    </tr>\n",
       "    <tr>\n",
       "      <th>Vegan</th>\n",
       "      <td>0.059795</td>\n",
       "      <td>0.002470</td>\n",
       "      <td>0.017964</td>\n",
       "      <td>0.303800</td>\n",
       "      <td>0.034432</td>\n",
       "      <td>0.004222</td>\n",
       "      <td>0.193680</td>\n",
       "      <td>0.003484</td>\n",
       "      <td>0.009386</td>\n",
       "      <td>0.001750</td>\n",
       "      <td>0.027872</td>\n",
       "      <td>0.000000</td>\n",
       "      <td>0.045936</td>\n",
       "      <td>0.021263</td>\n",
       "      <td>0.017244</td>\n",
       "      <td>0.000000</td>\n",
       "      <td>0.063884</td>\n",
       "      <td>0.006045</td>\n",
       "      <td>0.165925</td>\n",
       "      <td>0.018809</td>\n",
       "      <td>0.002037</td>\n",
       "    </tr>\n",
       "  </tbody>\n",
       "</table>\n",
       "</div>"
      ],
      "text/plain": [
       "department_id        1         2         3         4         5         6   \\\n",
       "vegan_profile                                                               \n",
       "Non-vegan      0.069073  0.001104  0.036399  0.292392  0.004387  0.008358   \n",
       "Vegan          0.059795  0.002470  0.017964  0.303800  0.034432  0.004222   \n",
       "\n",
       "department_id        7         8         9         10        11        12  \\\n",
       "vegan_profile                                                               \n",
       "Non-vegan      0.081628  0.003010  0.026952  0.001059  0.013644  0.022139   \n",
       "Vegan          0.193680  0.003484  0.009386  0.001750  0.027872  0.000000   \n",
       "\n",
       "department_id        13        14        15        16        17        18  \\\n",
       "vegan_profile                                                               \n",
       "Non-vegan      0.058016  0.021700  0.033148  0.168598  0.022303  0.013163   \n",
       "Vegan          0.045936  0.021263  0.017244  0.000000  0.063884  0.006045   \n",
       "\n",
       "department_id        19        20        21  \n",
       "vegan_profile                                \n",
       "Non-vegan      0.088189  0.032604  0.002135  \n",
       "Vegan          0.165925  0.018809  0.002037  "
      ]
     },
     "execution_count": 61,
     "metadata": {},
     "output_type": "execute_result"
    }
   ],
   "source": [
    "vegan_department_cross"
   ]
  },
  {
   "cell_type": "code",
   "execution_count": 62,
   "id": "ecdcb31d",
   "metadata": {},
   "outputs": [],
   "source": [
    "# This isn't a large df, so I'm going to do some work with it in Excel.  Copying to clipboard...\n",
    "\n",
    "vegan_department_cross.to_clipboard()"
   ]
  },
  {
   "cell_type": "markdown",
   "id": "41d165dc",
   "metadata": {},
   "source": [
    "#### Family Status"
   ]
  },
  {
   "cell_type": "code",
   "execution_count": 63,
   "id": "bd8a5cd8",
   "metadata": {},
   "outputs": [],
   "source": [
    "# Creating a crosstab comparing 'family_profile' and 'department_id'\n",
    "\n",
    "family_department_cross = pd.crosstab(df['family_profile'], df['department_id'], normalize = 'index')\n",
    "# normalize = 'index' gives row percentages"
   ]
  },
  {
   "cell_type": "code",
   "execution_count": 64,
   "id": "3b80ce3b",
   "metadata": {},
   "outputs": [
    {
     "data": {
      "text/html": [
       "<div>\n",
       "<style scoped>\n",
       "    .dataframe tbody tr th:only-of-type {\n",
       "        vertical-align: middle;\n",
       "    }\n",
       "\n",
       "    .dataframe tbody tr th {\n",
       "        vertical-align: top;\n",
       "    }\n",
       "\n",
       "    .dataframe thead th {\n",
       "        text-align: right;\n",
       "    }\n",
       "</style>\n",
       "<table border=\"1\" class=\"dataframe\">\n",
       "  <thead>\n",
       "    <tr style=\"text-align: right;\">\n",
       "      <th>department_id</th>\n",
       "      <th>1</th>\n",
       "      <th>2</th>\n",
       "      <th>3</th>\n",
       "      <th>4</th>\n",
       "      <th>5</th>\n",
       "      <th>6</th>\n",
       "      <th>7</th>\n",
       "      <th>8</th>\n",
       "      <th>9</th>\n",
       "      <th>10</th>\n",
       "      <th>11</th>\n",
       "      <th>12</th>\n",
       "      <th>13</th>\n",
       "      <th>14</th>\n",
       "      <th>15</th>\n",
       "      <th>16</th>\n",
       "      <th>17</th>\n",
       "      <th>18</th>\n",
       "      <th>19</th>\n",
       "      <th>20</th>\n",
       "      <th>21</th>\n",
       "    </tr>\n",
       "    <tr>\n",
       "      <th>family_profile</th>\n",
       "      <th></th>\n",
       "      <th></th>\n",
       "      <th></th>\n",
       "      <th></th>\n",
       "      <th></th>\n",
       "      <th></th>\n",
       "      <th></th>\n",
       "      <th></th>\n",
       "      <th></th>\n",
       "      <th></th>\n",
       "      <th></th>\n",
       "      <th></th>\n",
       "      <th></th>\n",
       "      <th></th>\n",
       "      <th></th>\n",
       "      <th></th>\n",
       "      <th></th>\n",
       "      <th></th>\n",
       "      <th></th>\n",
       "      <th></th>\n",
       "      <th></th>\n",
       "    </tr>\n",
       "  </thead>\n",
       "  <tbody>\n",
       "    <tr>\n",
       "      <th>Married no children</th>\n",
       "      <td>0.068501</td>\n",
       "      <td>0.001134</td>\n",
       "      <td>0.036290</td>\n",
       "      <td>0.292094</td>\n",
       "      <td>0.004674</td>\n",
       "      <td>0.008405</td>\n",
       "      <td>0.082844</td>\n",
       "      <td>0.002980</td>\n",
       "      <td>0.026714</td>\n",
       "      <td>0.001107</td>\n",
       "      <td>0.013833</td>\n",
       "      <td>0.022041</td>\n",
       "      <td>0.058145</td>\n",
       "      <td>0.021909</td>\n",
       "      <td>0.033025</td>\n",
       "      <td>0.167336</td>\n",
       "      <td>0.022995</td>\n",
       "      <td>0.012703</td>\n",
       "      <td>0.089014</td>\n",
       "      <td>0.032144</td>\n",
       "      <td>0.002111</td>\n",
       "    </tr>\n",
       "    <tr>\n",
       "      <th>Married with children</th>\n",
       "      <td>0.069171</td>\n",
       "      <td>0.001094</td>\n",
       "      <td>0.036029</td>\n",
       "      <td>0.292561</td>\n",
       "      <td>0.004629</td>\n",
       "      <td>0.008221</td>\n",
       "      <td>0.083094</td>\n",
       "      <td>0.002960</td>\n",
       "      <td>0.026828</td>\n",
       "      <td>0.001070</td>\n",
       "      <td>0.013798</td>\n",
       "      <td>0.021994</td>\n",
       "      <td>0.057826</td>\n",
       "      <td>0.021590</td>\n",
       "      <td>0.033057</td>\n",
       "      <td>0.166058</td>\n",
       "      <td>0.022954</td>\n",
       "      <td>0.013235</td>\n",
       "      <td>0.089272</td>\n",
       "      <td>0.032420</td>\n",
       "      <td>0.002140</td>\n",
       "    </tr>\n",
       "    <tr>\n",
       "      <th>Single no children</th>\n",
       "      <td>0.068806</td>\n",
       "      <td>0.001133</td>\n",
       "      <td>0.036358</td>\n",
       "      <td>0.293355</td>\n",
       "      <td>0.004831</td>\n",
       "      <td>0.008362</td>\n",
       "      <td>0.083290</td>\n",
       "      <td>0.003036</td>\n",
       "      <td>0.026584</td>\n",
       "      <td>0.001022</td>\n",
       "      <td>0.013832</td>\n",
       "      <td>0.021498</td>\n",
       "      <td>0.057642</td>\n",
       "      <td>0.021559</td>\n",
       "      <td>0.032706</td>\n",
       "      <td>0.166639</td>\n",
       "      <td>0.022325</td>\n",
       "      <td>0.013151</td>\n",
       "      <td>0.089015</td>\n",
       "      <td>0.032744</td>\n",
       "      <td>0.002110</td>\n",
       "    </tr>\n",
       "    <tr>\n",
       "      <th>Single with children</th>\n",
       "      <td>0.069994</td>\n",
       "      <td>0.001232</td>\n",
       "      <td>0.036207</td>\n",
       "      <td>0.289970</td>\n",
       "      <td>0.005737</td>\n",
       "      <td>0.008432</td>\n",
       "      <td>0.080375</td>\n",
       "      <td>0.003624</td>\n",
       "      <td>0.026894</td>\n",
       "      <td>0.001080</td>\n",
       "      <td>0.013744</td>\n",
       "      <td>0.021915</td>\n",
       "      <td>0.058217</td>\n",
       "      <td>0.022398</td>\n",
       "      <td>0.033013</td>\n",
       "      <td>0.168184</td>\n",
       "      <td>0.022718</td>\n",
       "      <td>0.012992</td>\n",
       "      <td>0.088458</td>\n",
       "      <td>0.032513</td>\n",
       "      <td>0.002303</td>\n",
       "    </tr>\n",
       "  </tbody>\n",
       "</table>\n",
       "</div>"
      ],
      "text/plain": [
       "department_id                1         2         3         4         5   \\\n",
       "family_profile                                                            \n",
       "Married no children    0.068501  0.001134  0.036290  0.292094  0.004674   \n",
       "Married with children  0.069171  0.001094  0.036029  0.292561  0.004629   \n",
       "Single no children     0.068806  0.001133  0.036358  0.293355  0.004831   \n",
       "Single with children   0.069994  0.001232  0.036207  0.289970  0.005737   \n",
       "\n",
       "department_id                6         7         8         9         10  \\\n",
       "family_profile                                                            \n",
       "Married no children    0.008405  0.082844  0.002980  0.026714  0.001107   \n",
       "Married with children  0.008221  0.083094  0.002960  0.026828  0.001070   \n",
       "Single no children     0.008362  0.083290  0.003036  0.026584  0.001022   \n",
       "Single with children   0.008432  0.080375  0.003624  0.026894  0.001080   \n",
       "\n",
       "department_id                11        12        13        14        15  \\\n",
       "family_profile                                                            \n",
       "Married no children    0.013833  0.022041  0.058145  0.021909  0.033025   \n",
       "Married with children  0.013798  0.021994  0.057826  0.021590  0.033057   \n",
       "Single no children     0.013832  0.021498  0.057642  0.021559  0.032706   \n",
       "Single with children   0.013744  0.021915  0.058217  0.022398  0.033013   \n",
       "\n",
       "department_id                16        17        18        19        20  \\\n",
       "family_profile                                                            \n",
       "Married no children    0.167336  0.022995  0.012703  0.089014  0.032144   \n",
       "Married with children  0.166058  0.022954  0.013235  0.089272  0.032420   \n",
       "Single no children     0.166639  0.022325  0.013151  0.089015  0.032744   \n",
       "Single with children   0.168184  0.022718  0.012992  0.088458  0.032513   \n",
       "\n",
       "department_id                21  \n",
       "family_profile                   \n",
       "Married no children    0.002111  \n",
       "Married with children  0.002140  \n",
       "Single no children     0.002110  \n",
       "Single with children   0.002303  "
      ]
     },
     "execution_count": 64,
     "metadata": {},
     "output_type": "execute_result"
    }
   ],
   "source": [
    "family_department_cross"
   ]
  },
  {
   "cell_type": "markdown",
   "id": "7a5d43b4",
   "metadata": {},
   "source": [
    "### 09. Produce suitable charts to illustrate your results and export them in your project folder."
   ]
  },
  {
   "cell_type": "markdown",
   "id": "f3859cb7",
   "metadata": {},
   "source": [
    "#### Age"
   ]
  },
  {
   "cell_type": "code",
   "execution_count": 65,
   "id": "f9f1b1a5",
   "metadata": {},
   "outputs": [
    {
     "data": {
      "image/png": "[encoded data removed]",
      "text/plain": [
       "<Figure size 640x480 with 1 Axes>"
      ]
     },
     "metadata": {},
     "output_type": "display_data"
    }
   ],
   "source": [
    "# age_profile by region\n",
    "\n",
    "age_region_bar = age_region_cross.plot.bar(rot=0)"
   ]
  },
  {
   "cell_type": "code",
   "execution_count": 66,
   "id": "5b22abce",
   "metadata": {},
   "outputs": [],
   "source": [
    "# Exporting viz\n",
    "\n",
    "age_region_bar.figure.savefig(os.path.join(path, '04 Analysis', 'Visualizations', 'age_region_bar.png'))"
   ]
  },
  {
   "cell_type": "markdown",
   "id": "7390cff6",
   "metadata": {},
   "source": [
    "#### Income"
   ]
  },
  {
   "cell_type": "code",
   "execution_count": 67,
   "id": "27e1e5f5",
   "metadata": {},
   "outputs": [
    {
     "data": {
      "image/png": "[encoded data removed]",
      "text/plain": [
       "<Figure size 640x480 with 1 Axes>"
      ]
     },
     "metadata": {},
     "output_type": "display_data"
    }
   ],
   "source": [
    "# income_profile by region\n",
    "\n",
    "income_region_bar = income_region_cross.plot.bar(rot=0)"
   ]
  },
  {
   "cell_type": "code",
   "execution_count": 68,
   "id": "12d7fc16",
   "metadata": {},
   "outputs": [],
   "source": [
    "# Exporting viz\n",
    "\n",
    "income_region_bar.figure.savefig(os.path.join(path, '04 Analysis', 'Visualizations', 'income_region_bar.png'))"
   ]
  },
  {
   "cell_type": "markdown",
   "id": "0e4ada6d",
   "metadata": {},
   "source": [
    "#### Veganism"
   ]
  },
  {
   "cell_type": "code",
   "execution_count": 69,
   "id": "e781cda0",
   "metadata": {},
   "outputs": [
    {
     "data": {
      "image/png": "[encoded data removed]",
      "text/plain": [
       "<Figure size 640x480 with 1 Axes>"
      ]
     },
     "metadata": {},
     "output_type": "display_data"
    }
   ],
   "source": [
    "# vegan_profile by region\n",
    "\n",
    "vegan_region_bar = vegan_region_cross.plot.bar(rot=0)"
   ]
  },
  {
   "cell_type": "code",
   "execution_count": 70,
   "id": "ece7a34f",
   "metadata": {},
   "outputs": [],
   "source": [
    "# Exporting viz\n",
    "\n",
    "vegan_region_bar.figure.savefig(os.path.join(path, '04 Analysis', 'Visualizations', 'vegan_region_bar.png'))"
   ]
  },
  {
   "cell_type": "markdown",
   "id": "a7c3ecb0",
   "metadata": {},
   "source": [
    "#### Family Status"
   ]
  },
  {
   "cell_type": "code",
   "execution_count": 71,
   "id": "a3a4737d",
   "metadata": {},
   "outputs": [
    {
     "data": {
      "image/png": "[encoded data removed]",
      "text/plain": [
       "<Figure size 640x480 with 1 Axes>"
      ]
     },
     "metadata": {},
     "output_type": "display_data"
    }
   ],
   "source": [
    "# family_profile by region\n",
    "\n",
    "family_region_bar = family_region_cross.plot.bar()"
   ]
  },
  {
   "cell_type": "code",
   "execution_count": 72,
   "id": "a1df3893",
   "metadata": {},
   "outputs": [],
   "source": [
    "# Exporting viz\n",
    "\n",
    "family_region_bar.figure.savefig(os.path.join(path, '04 Analysis', 'Visualizations', 'family_region_bar.png'))"
   ]
  },
  {
   "cell_type": "markdown",
   "id": "a3a0fd3d",
   "metadata": {},
   "source": [
    "#### Visualizations for Profiles by Department"
   ]
  },
  {
   "cell_type": "markdown",
   "id": "a4e99dfe",
   "metadata": {},
   "source": [
    "#### Age"
   ]
  },
  {
   "cell_type": "code",
   "execution_count": 73,
   "id": "3054a0d0",
   "metadata": {},
   "outputs": [],
   "source": [
    "# Creating a new crosstab so that the departments are on the x-axis\n",
    "\n",
    "age_department_cros = pd.crosstab(df['department_id'], df['age_profile'])"
   ]
  },
  {
   "cell_type": "code",
   "execution_count": 74,
   "id": "b0499bf0",
   "metadata": {},
   "outputs": [
    {
     "data": {
      "image/png": "[encoded data removed]",
      "text/plain": [
       "<Figure size 640x480 with 1 Axes>"
      ]
     },
     "metadata": {},
     "output_type": "display_data"
    }
   ],
   "source": [
    "# Creating a stacked bar plot of the new crosstab\n",
    "\n",
    "age_department_bar = age_department_cros.plot.bar(stacked = True)"
   ]
  },
  {
   "cell_type": "code",
   "execution_count": 75,
   "id": "481daa14",
   "metadata": {},
   "outputs": [],
   "source": [
    "# Exporting the viz\n",
    "\n",
    "age_department_bar.figure.savefig(os.path.join(path, '04 Analysis', 'Visualizations', 'age_department_bar.png'))"
   ]
  },
  {
   "cell_type": "markdown",
   "id": "1cad1f6a",
   "metadata": {},
   "source": [
    "#### Income"
   ]
  },
  {
   "cell_type": "code",
   "execution_count": 76,
   "id": "c4af325b",
   "metadata": {},
   "outputs": [],
   "source": [
    "# Creating a new crosstab so that the departments are on the x-axis\n",
    "\n",
    "income_department_cros = pd.crosstab(df['department_id'], df['income_profile'])"
   ]
  },
  {
   "cell_type": "code",
   "execution_count": 77,
   "id": "42d09d51",
   "metadata": {},
   "outputs": [
    {
     "data": {
      "image/png": "[encoded data removed]",
      "text/plain": [
       "<Figure size 640x480 with 1 Axes>"
      ]
     },
     "metadata": {},
     "output_type": "display_data"
    }
   ],
   "source": [
    "# Creating a stacked bar plot of the new crosstab\n",
    "\n",
    "income_department_bar = income_department_cros.plot.bar(stacked = True)"
   ]
  },
  {
   "cell_type": "code",
   "execution_count": 78,
   "id": "5623faf9",
   "metadata": {},
   "outputs": [],
   "source": [
    "# Exporting the viz\n",
    "\n",
    "income_department_bar.figure.savefig(os.path.join(path, '04 Analysis', 'Visualizations', 'income_department_bar.png'))"
   ]
  },
  {
   "cell_type": "markdown",
   "id": "0a950fed",
   "metadata": {},
   "source": [
    "#### Veganism"
   ]
  },
  {
   "cell_type": "code",
   "execution_count": 79,
   "id": "8341bf8f",
   "metadata": {},
   "outputs": [],
   "source": [
    "# Creating a new crosstab so that the departments are on the x-axis\n",
    "\n",
    "vegan_department_cros = pd.crosstab(df['department_id'], df['vegan_profile'])"
   ]
  },
  {
   "cell_type": "code",
   "execution_count": 80,
   "id": "6a555a0e",
   "metadata": {},
   "outputs": [
    {
     "data": {
      "image/png": "[encoded data removed]",
      "text/plain": [
       "<Figure size 640x480 with 1 Axes>"
      ]
     },
     "metadata": {},
     "output_type": "display_data"
    }
   ],
   "source": [
    "# Creating a stacked bar plot of the new crosstab\n",
    "\n",
    "vegan_department_bar = vegan_department_cros.plot.bar(stacked = True)"
   ]
  },
  {
   "cell_type": "code",
   "execution_count": 81,
   "id": "f0bb76b3",
   "metadata": {},
   "outputs": [],
   "source": [
    "# Exporting the viz\n",
    "\n",
    "vegan_department_bar.figure.savefig(os.path.join(path, '04 Analysis', 'Visualizations', 'vegan_department_bar.png'))"
   ]
  },
  {
   "cell_type": "markdown",
   "id": "740627f5",
   "metadata": {},
   "source": [
    "#### Family Status"
   ]
  },
  {
   "cell_type": "code",
   "execution_count": 82,
   "id": "97f3ac3a",
   "metadata": {},
   "outputs": [],
   "source": [
    "# Creating a new crosstab so that the departments are on the x-axis\n",
    "\n",
    "family_department_cros = pd.crosstab(df['department_id'], df['family_profile'])"
   ]
  },
  {
   "cell_type": "code",
   "execution_count": 83,
   "id": "3b5285e7",
   "metadata": {},
   "outputs": [
    {
     "data": {
      "image/png": "[encoded data removed]",
      "text/plain": [
       "<Figure size 640x480 with 1 Axes>"
      ]
     },
     "metadata": {},
     "output_type": "display_data"
    }
   ],
   "source": [
    "# Creating a stacked bar plot of the new crosstab\n",
    "\n",
    "family_department_bar = family_department_cros.plot.bar(stacked = True)"
   ]
  },
  {
   "cell_type": "code",
   "execution_count": 84,
   "id": "a78e6f85",
   "metadata": {},
   "outputs": [],
   "source": [
    "# Exporting the viz\n",
    "\n",
    "family_department_bar.figure.savefig(os.path.join(path, '04 Analysis', 'Visualizations', 'family_department_bar.png'))"
   ]
  },
  {
   "cell_type": "markdown",
   "id": "396d9446",
   "metadata": {},
   "source": [
    "### 10. Tidy up your script, export your final data set, and save your notebook."
   ]
  },
  {
   "cell_type": "code",
   "execution_count": 85,
   "id": "4905853f",
   "metadata": {},
   "outputs": [],
   "source": [
    "# Exporting final data set as \n",
    "\n",
    "df.to_pickle(os.path.join(path, '02 Data', 'Prepared Data', 'orders_products_final.pkl'))"
   ]
  },
  {
   "cell_type": "markdown",
   "id": "48f5806c",
   "metadata": {},
   "source": [
    "### Extra Analysis "
   ]
  },
  {
   "cell_type": "code",
   "execution_count": 86,
   "id": "ffc77a94",
   "metadata": {},
   "outputs": [
    {
     "data": {
      "text/html": [
       "<div>\n",
       "<style scoped>\n",
       "    .dataframe tbody tr th:only-of-type {\n",
       "        vertical-align: middle;\n",
       "    }\n",
       "\n",
       "    .dataframe tbody tr th {\n",
       "        vertical-align: top;\n",
       "    }\n",
       "\n",
       "    .dataframe thead th {\n",
       "        text-align: right;\n",
       "    }\n",
       "</style>\n",
       "<table border=\"1\" class=\"dataframe\">\n",
       "  <thead>\n",
       "    <tr style=\"text-align: right;\">\n",
       "      <th>loyalty_flag</th>\n",
       "      <th>Loyal customer</th>\n",
       "      <th>New customer</th>\n",
       "      <th>Regular customer</th>\n",
       "    </tr>\n",
       "    <tr>\n",
       "      <th>region</th>\n",
       "      <th></th>\n",
       "      <th></th>\n",
       "      <th></th>\n",
       "    </tr>\n",
       "  </thead>\n",
       "  <tbody>\n",
       "    <tr>\n",
       "      <th>Midwest</th>\n",
       "      <td>2373774</td>\n",
       "      <td>1472573</td>\n",
       "      <td>3750978</td>\n",
       "    </tr>\n",
       "    <tr>\n",
       "      <th>Northeast</th>\n",
       "      <td>1841785</td>\n",
       "      <td>1100207</td>\n",
       "      <td>2780744</td>\n",
       "    </tr>\n",
       "    <tr>\n",
       "      <th>South</th>\n",
       "      <td>3405844</td>\n",
       "      <td>2074410</td>\n",
       "      <td>5311631</td>\n",
       "    </tr>\n",
       "    <tr>\n",
       "      <th>West</th>\n",
       "      <td>2662690</td>\n",
       "      <td>1596800</td>\n",
       "      <td>4033423</td>\n",
       "    </tr>\n",
       "  </tbody>\n",
       "</table>\n",
       "</div>"
      ],
      "text/plain": [
       "loyalty_flag  Loyal customer  New customer  Regular customer\n",
       "region                                                      \n",
       "Midwest              2373774       1472573           3750978\n",
       "Northeast            1841785       1100207           2780744\n",
       "South                3405844       2074410           5311631\n",
       "West                 2662690       1596800           4033423"
      ]
     },
     "execution_count": 86,
     "metadata": {},
     "output_type": "execute_result"
    }
   ],
   "source": [
    "# Creating a crosstab comparing 'region' and 'loyalty_flag'\n",
    "\n",
    "region_loyalty_cross = pd.crosstab(df['region'], df['loyalty_flag'])\n",
    "\n",
    "region_loyalty_cross"
   ]
  },
  {
   "cell_type": "code",
   "execution_count": 87,
   "id": "d3ad48af",
   "metadata": {},
   "outputs": [
    {
     "data": {
      "text/html": [
       "<div>\n",
       "<style scoped>\n",
       "    .dataframe tbody tr th:only-of-type {\n",
       "        vertical-align: middle;\n",
       "    }\n",
       "\n",
       "    .dataframe tbody tr th {\n",
       "        vertical-align: top;\n",
       "    }\n",
       "\n",
       "    .dataframe thead th {\n",
       "        text-align: right;\n",
       "    }\n",
       "</style>\n",
       "<table border=\"1\" class=\"dataframe\">\n",
       "  <thead>\n",
       "    <tr style=\"text-align: right;\">\n",
       "      <th>loyalty_flag</th>\n",
       "      <th>Loyal customer</th>\n",
       "      <th>New customer</th>\n",
       "      <th>Regular customer</th>\n",
       "    </tr>\n",
       "    <tr>\n",
       "      <th>region</th>\n",
       "      <th></th>\n",
       "      <th></th>\n",
       "      <th></th>\n",
       "    </tr>\n",
       "  </thead>\n",
       "  <tbody>\n",
       "    <tr>\n",
       "      <th>Midwest</th>\n",
       "      <td>0.312449</td>\n",
       "      <td>0.193828</td>\n",
       "      <td>0.493724</td>\n",
       "    </tr>\n",
       "    <tr>\n",
       "      <th>Northeast</th>\n",
       "      <td>0.321836</td>\n",
       "      <td>0.192252</td>\n",
       "      <td>0.485912</td>\n",
       "    </tr>\n",
       "    <tr>\n",
       "      <th>South</th>\n",
       "      <td>0.315593</td>\n",
       "      <td>0.192219</td>\n",
       "      <td>0.492188</td>\n",
       "    </tr>\n",
       "    <tr>\n",
       "      <th>West</th>\n",
       "      <td>0.321080</td>\n",
       "      <td>0.192550</td>\n",
       "      <td>0.486370</td>\n",
       "    </tr>\n",
       "  </tbody>\n",
       "</table>\n",
       "</div>"
      ],
      "text/plain": [
       "loyalty_flag  Loyal customer  New customer  Regular customer\n",
       "region                                                      \n",
       "Midwest             0.312449      0.193828          0.493724\n",
       "Northeast           0.321836      0.192252          0.485912\n",
       "South               0.315593      0.192219          0.492188\n",
       "West                0.321080      0.192550          0.486370"
      ]
     },
     "execution_count": 87,
     "metadata": {},
     "output_type": "execute_result"
    }
   ],
   "source": [
    "# Creating a crosstab comparing 'region' and 'loyalty_flag' with row percentages\n",
    "\n",
    "region_loyalty_crossed = pd.crosstab(df['region'], df['loyalty_flag'], normalize = 'index')\n",
    "\n",
    "region_loyalty_crossed"
   ]
  },
  {
   "cell_type": "code",
   "execution_count": 88,
   "id": "8b0194c6",
   "metadata": {},
   "outputs": [
    {
     "data": {
      "image/png": "[encoded data removed]",
      "text/plain": [
       "<Figure size 640x480 with 1 Axes>"
      ]
     },
     "metadata": {},
     "output_type": "display_data"
    }
   ],
   "source": [
    "# Visualizing regional loyalty\n",
    "\n",
    "region_loyalty_bar = region_loyalty_cross.plot.bar(rot=0)"
   ]
  },
  {
   "cell_type": "code",
   "execution_count": 89,
   "id": "d003cc90",
   "metadata": {},
   "outputs": [
    {
     "data": {
      "image/png": "[encoded data removed]",
      "text/plain": [
       "<Figure size 640x480 with 1 Axes>"
      ]
     },
     "metadata": {},
     "output_type": "display_data"
    }
   ],
   "source": [
    "# Visualizing regional loyalty\n",
    "\n",
    "region_loyalty_bar_2 = region_loyalty_crossed.plot.bar(rot=0)"
   ]
  },
  {
   "cell_type": "code",
   "execution_count": 90,
   "id": "92bb434a",
   "metadata": {},
   "outputs": [],
   "source": [
    "# Exporting the visualizations above\n",
    "\n",
    "region_loyalty_bar.figure.savefig(os.path.join(path, '04 Analysis', 'Visualizations', 'region_loyalty_bar.png'))\n",
    "region_loyalty_bar_2.figure.savefig(os.path.join(path, '04 Analysis', 'Visualizations', 'region_loyalty_bar_2.png'))"
   ]
  },
  {
   "cell_type": "code",
   "execution_count": 96,
   "id": "0e40d3ae",
   "metadata": {},
   "outputs": [
    {
     "data": {
      "text/html": [
       "<div>\n",
       "<style scoped>\n",
       "    .dataframe tbody tr th:only-of-type {\n",
       "        vertical-align: middle;\n",
       "    }\n",
       "\n",
       "    .dataframe tbody tr th {\n",
       "        vertical-align: top;\n",
       "    }\n",
       "\n",
       "    .dataframe thead th {\n",
       "        text-align: right;\n",
       "    }\n",
       "</style>\n",
       "<table border=\"1\" class=\"dataframe\">\n",
       "  <thead>\n",
       "    <tr style=\"text-align: right;\">\n",
       "      <th>loyalty_flag</th>\n",
       "      <th>Loyal customer</th>\n",
       "      <th>New customer</th>\n",
       "      <th>Regular customer</th>\n",
       "    </tr>\n",
       "    <tr>\n",
       "      <th>spending_flag</th>\n",
       "      <th></th>\n",
       "      <th></th>\n",
       "      <th></th>\n",
       "    </tr>\n",
       "  </thead>\n",
       "  <tbody>\n",
       "    <tr>\n",
       "      <th>High spender</th>\n",
       "      <td>216600</td>\n",
       "      <td>114831</td>\n",
       "      <td>302814</td>\n",
       "    </tr>\n",
       "    <tr>\n",
       "      <th>Low spender</th>\n",
       "      <td>10067493</td>\n",
       "      <td>6129159</td>\n",
       "      <td>15573962</td>\n",
       "    </tr>\n",
       "  </tbody>\n",
       "</table>\n",
       "</div>"
      ],
      "text/plain": [
       "loyalty_flag   Loyal customer  New customer  Regular customer\n",
       "spending_flag                                                \n",
       "High spender           216600        114831            302814\n",
       "Low spender          10067493       6129159          15573962"
      ]
     },
     "execution_count": 96,
     "metadata": {},
     "output_type": "execute_result"
    }
   ],
   "source": [
    "# Creating the crosstab\n",
    "\n",
    "spending_loyalty_crossed = pd.crosstab(df['spending_flag'], df['loyalty_flag'])\n",
    "\n",
    "spending_loyalty_crossed"
   ]
  },
  {
   "cell_type": "code",
   "execution_count": 97,
   "id": "d0594c96",
   "metadata": {},
   "outputs": [
    {
     "data": {
      "image/png": "[encoded data removed]",
      "text/plain": [
       "<Figure size 640x480 with 1 Axes>"
      ]
     },
     "metadata": {},
     "output_type": "display_data"
    }
   ],
   "source": [
    "# Creating the viz\n",
    "\n",
    "spending_loyalty_bar = spending_loyalty_crossed.plot.bar(rot=0)"
   ]
  },
  {
   "cell_type": "code",
   "execution_count": 98,
   "id": "4ae9e495",
   "metadata": {},
   "outputs": [],
   "source": [
    "# Exporting the viz\n",
    "\n",
    "spending_loyalty_bar.figure.savefig(os.path.join(path, '04 Analysis', 'Visualizations', 'spending_loyalty_bar.png'))"
   ]
  },
  {
   "cell_type": "code",
   "execution_count": null,
   "id": "ec7a968f",
   "metadata": {},
   "outputs": [],
   "source": []
  }
 ],
 "metadata": {
  "kernelspec": {
   "display_name": "Python 3 (ipykernel)",
   "language": "python",
   "name": "python3"
  },
  "language_info": {
   "codemirror_mode": {
    "name": "ipython",
    "version": 3
   },
   "file_extension": ".py",
   "mimetype": "text/x-python",
   "name": "python",
   "nbconvert_exporter": "python",
   "pygments_lexer": "ipython3",
   "version": "3.10.9"
  }
 },
 "nbformat": 4,
 "nbformat_minor": 5
}
