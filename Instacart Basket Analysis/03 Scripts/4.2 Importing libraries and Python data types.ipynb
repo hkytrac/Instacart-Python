{
 "cells": [
  {
   "cell_type": "markdown",
   "id": "eb7de5ca",
   "metadata": {},
   "source": [
    "# 01. Importing libraries"
   ]
  },
  {
   "cell_type": "code",
   "execution_count": 1,
   "id": "ac9feb64",
   "metadata": {},
   "outputs": [],
   "source": [
    "# Import libraries \n",
    "import pandas as pd\n",
    "import numpy as np\n",
    "import os"
   ]
  },
  {
   "cell_type": "markdown",
   "id": "9b7dd0fc",
   "metadata": {},
   "source": [
    "# Python data type"
   ]
  },
  {
   "cell_type": "code",
   "execution_count": 2,
   "id": "a50ff5cb",
   "metadata": {},
   "outputs": [],
   "source": [
    "x = 50"
   ]
  },
  {
   "cell_type": "code",
   "execution_count": 3,
   "id": "8cec1c63",
   "metadata": {},
   "outputs": [],
   "source": [
    "y = 50"
   ]
  },
  {
   "cell_type": "code",
   "execution_count": 4,
   "id": "ab340190",
   "metadata": {},
   "outputs": [
    {
     "data": {
      "text/plain": [
       "100"
      ]
     },
     "execution_count": 4,
     "metadata": {},
     "output_type": "execute_result"
    }
   ],
   "source": [
    "x + y "
   ]
  },
  {
   "cell_type": "code",
   "execution_count": 5,
   "id": "e021fafe",
   "metadata": {},
   "outputs": [],
   "source": [
    "z = 200"
   ]
  },
  {
   "cell_type": "code",
   "execution_count": 6,
   "id": "74a6ce1f",
   "metadata": {},
   "outputs": [
    {
     "data": {
      "text/plain": [
       "100"
      ]
     },
     "execution_count": 6,
     "metadata": {},
     "output_type": "execute_result"
    }
   ],
   "source": [
    "z - (x * 2)"
   ]
  },
  {
   "cell_type": "code",
   "execution_count": 10,
   "id": "5d790768",
   "metadata": {},
   "outputs": [
    {
     "data": {
      "text/plain": [
       "100"
      ]
     },
     "execution_count": 10,
     "metadata": {},
     "output_type": "execute_result"
    }
   ],
   "source": [
    "z - (x + y)"
   ]
  },
  {
   "cell_type": "code",
   "execution_count": 11,
   "id": "fbbd3634",
   "metadata": {},
   "outputs": [],
   "source": [
    "K = 2.5"
   ]
  },
  {
   "cell_type": "code",
   "execution_count": 12,
   "id": "8dd581af",
   "metadata": {},
   "outputs": [],
   "source": [
    "T = 5.0"
   ]
  },
  {
   "cell_type": "code",
   "execution_count": 13,
   "id": "cc00806a",
   "metadata": {},
   "outputs": [
    {
     "data": {
      "text/plain": [
       "2.0"
      ]
     },
     "execution_count": 13,
     "metadata": {},
     "output_type": "execute_result"
    }
   ],
   "source": [
    "T / K"
   ]
  },
  {
   "cell_type": "code",
   "execution_count": 14,
   "id": "2f9703b9",
   "metadata": {},
   "outputs": [],
   "source": [
    "A = 'con'"
   ]
  },
  {
   "cell_type": "code",
   "execution_count": 15,
   "id": "f2570c1b",
   "metadata": {},
   "outputs": [],
   "source": [
    "B = 'str'"
   ]
  },
  {
   "cell_type": "code",
   "execution_count": 16,
   "id": "ff965c81",
   "metadata": {},
   "outputs": [],
   "source": [
    "C ='uct'"
   ]
  },
  {
   "cell_type": "code",
   "execution_count": 17,
   "id": "9bc89080",
   "metadata": {},
   "outputs": [
    {
     "data": {
      "text/plain": [
       "'construct'"
      ]
     },
     "execution_count": 17,
     "metadata": {},
     "output_type": "execute_result"
    }
   ],
   "source": [
    "A + B + C"
   ]
  },
  {
   "cell_type": "code",
   "execution_count": 18,
   "id": "f4e2066d",
   "metadata": {},
   "outputs": [],
   "source": [
    "H = 'Hi '"
   ]
  },
  {
   "cell_type": "code",
   "execution_count": 19,
   "id": "9f53f9bd",
   "metadata": {},
   "outputs": [],
   "source": [
    "E = 'everyone '"
   ]
  },
  {
   "cell_type": "code",
   "execution_count": 20,
   "id": "7b4fff88",
   "metadata": {},
   "outputs": [],
   "source": [
    "I = 'im '"
   ]
  },
  {
   "cell_type": "code",
   "execution_count": 21,
   "id": "c46cfd0a",
   "metadata": {},
   "outputs": [],
   "source": [
    "K = 'Ky'"
   ]
  },
  {
   "cell_type": "code",
   "execution_count": 22,
   "id": "c9947bc8",
   "metadata": {},
   "outputs": [
    {
     "data": {
      "text/plain": [
       "'Hi everyone '"
      ]
     },
     "execution_count": 22,
     "metadata": {},
     "output_type": "execute_result"
    }
   ],
   "source": [
    "H + E"
   ]
  },
  {
   "cell_type": "code",
   "execution_count": 23,
   "id": "c81a0448",
   "metadata": {},
   "outputs": [
    {
     "data": {
      "text/plain": [
       "'Hi everyone im Ky'"
      ]
     },
     "execution_count": 23,
     "metadata": {},
     "output_type": "execute_result"
    }
   ],
   "source": [
    "H + E + I + K"
   ]
  },
  {
   "cell_type": "code",
   "execution_count": null,
   "id": "4e45a307",
   "metadata": {},
   "outputs": [],
   "source": []
  }
 ],
 "metadata": {
  "kernelspec": {
   "display_name": "Python 3 (ipykernel)",
   "language": "python",
   "name": "python3"
  },
  "language_info": {
   "codemirror_mode": {
    "name": "ipython",
    "version": 3
   },
   "file_extension": ".py",
   "mimetype": "text/x-python",
   "name": "python",
   "nbconvert_exporter": "python",
   "pygments_lexer": "ipython3",
   "version": "3.9.13"
  }
 },
 "nbformat": 4,
 "nbformat_minor": 5
}
